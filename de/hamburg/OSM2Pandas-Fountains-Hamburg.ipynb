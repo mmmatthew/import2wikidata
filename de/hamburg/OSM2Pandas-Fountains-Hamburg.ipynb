{
 "cells": [
  {
   "cell_type": "markdown",
   "metadata": {},
   "source": [
    "# Read Overpass-API to Python Pandas Dataframe"
   ]
  },
  {
   "cell_type": "markdown",
   "metadata": {},
   "source": [
    "The [Overpass API](http://wiki.openstreetmap.org/wiki/Overpass_API) provides access to the data behind the Openstreetmaps Map Data.\n",
    "The [Overpass-Turbo](http://overpass-turbo.eu/) is the easyiest way to test requests and get the correct code to ask the database. Example: Fountains of the city of Hamburg as per https://github.com/water-fountains/proximap/issues/307"
   ]
  },
  {
   "cell_type": "code",
   "execution_count": 58,
   "metadata": {},
   "outputs": [
    {
     "name": "stdout",
     "output_type": "stream",
     "text": [
      "191123_122309\n"
     ]
    }
   ],
   "source": [
    "from datetime import datetime as dt\n",
    "dtFmt = \"%y%m%d_%H%M%S\"\n",
    "print (dt.now().strftime(dtFmt))\n",
    "import pandas as pd\n",
    "import requests\n",
    "import json\n",
    "pd.set_option('display.max_columns', 200)"
   ]
  },
  {
   "cell_type": "code",
   "execution_count": 3,
   "metadata": {},
   "outputs": [],
   "source": [
    "# Get yours at: http://boundingbox.klokantech.com/\n",
    "bbox = [9.657,53.4075,10.2997,53.7365]\n",
    "\n",
    "# Links unten\n",
    "minLat = bbox[1]\n",
    "minLon = bbox[0]\n",
    "\n",
    "# Rechts oben\n",
    "maxLat = bbox[3]\n",
    "maxLon = bbox[2]"
   ]
  },
  {
   "cell_type": "markdown",
   "metadata": {},
   "source": [
    "### Construct the Overpass Query String"
   ]
  },
  {
   "cell_type": "markdown",
   "metadata": {},
   "source": [
    "Request from [Overpass-Turbo](http://overpass-turbo.eu/)"
   ]
  },
  {
   "cell_type": "code",
   "execution_count": 46,
   "metadata": {},
   "outputs": [
    {
     "data": {
      "text/plain": [
       "'[out:json][timeout:60];(node[man_made=drinking_fountain](53.4075,9.657,53.7365,10.2997);node[amenity=drinking_water](53.4075,9.657,53.7365,10.2997);node[amenity=fountain](53.4075,9.657,53.7365,10.2997););out ;'"
      ]
     },
     "execution_count": 46,
     "metadata": {},
     "output_type": "execute_result"
    }
   ],
   "source": [
    "bbox_string = '(%s,%s,%s,%s)' % (minLat, minLon, maxLat, maxLon)\n",
    "\n",
    "compactOverpassQLstring = f'[out:json][timeout:60];(node[man_made=drinking_fountain]{bbox_string};node[amenity=drinking_water]{bbox_string};node[amenity=fountain]{bbox_string};'\n",
    "#node[man_made=water_tap]{bbox_string};node[natural=spring]{bbox_string};node[amenity=watering_place]{bbox_string};\n",
    "#node[amenity=water_point]{bbox_string};node[man_made=water_well]{bbox_string};\n",
    "compactOverpassQLstring += ');out ;'\n",
    "compactOverpassQLstring"
   ]
  },
  {
   "cell_type": "code",
   "execution_count": 47,
   "metadata": {},
   "outputs": [],
   "source": [
    "osmrequest = {'data': compactOverpassQLstring}\n",
    "osmurl = 'https://overpass-api.de/api/interpreter'\n",
    "\n",
    "# Ask the API\n",
    "osm = requests.get(osmurl, params=osmrequest)"
   ]
  },
  {
   "cell_type": "markdown",
   "metadata": {},
   "source": [
    "### Reformat the JSON to fit in a Pandas Dataframe"
   ]
  },
  {
   "cell_type": "markdown",
   "metadata": {},
   "source": [
    "The JSON can't be directyl imported to a Pandas Dataframe:\n",
    "\n",
    "Thanks to [unutbu from stackoverflow.com](http://stackoverflow.com/questions/24848416/expected-string-or-unicode-when-reading-json-with-pandas) for fiddling this out!"
   ]
  },
  {
   "cell_type": "code",
   "execution_count": 48,
   "metadata": {},
   "outputs": [],
   "source": [
    "osmdata = osm.json()\n",
    "# print out the json\n",
    "#osmdata"
   ]
  },
  {
   "cell_type": "code",
   "execution_count": 49,
   "metadata": {},
   "outputs": [],
   "source": [
    "osmelements = osmdata['elements']\n",
    "#for dct in osmdata:\n",
    "#    if dct['type']=='way':\n",
    "#        for key, val in dct['tags'].iteritems():\n",
    "#            dct[key] = val\n",
    "#        del dct['tags']\n",
    "#    else:\n",
    "#        pass # nodes"
   ]
  },
  {
   "cell_type": "markdown",
   "metadata": {},
   "source": [
    "### Now put everything to the Pandas Dataframe"
   ]
  },
  {
   "cell_type": "code",
   "execution_count": 50,
   "metadata": {},
   "outputs": [],
   "source": [
    "osmdf = pd.DataFrame(osmelements)"
   ]
  },
  {
   "cell_type": "markdown",
   "metadata": {},
   "source": [
    "### Look at the whole Dataframe"
   ]
  },
  {
   "cell_type": "code",
   "execution_count": 51,
   "metadata": {},
   "outputs": [
    {
     "data": {
      "text/html": [
       "<div>\n",
       "<style scoped>\n",
       "    .dataframe tbody tr th:only-of-type {\n",
       "        vertical-align: middle;\n",
       "    }\n",
       "\n",
       "    .dataframe tbody tr th {\n",
       "        vertical-align: top;\n",
       "    }\n",
       "\n",
       "    .dataframe thead th {\n",
       "        text-align: right;\n",
       "    }\n",
       "</style>\n",
       "<table border=\"1\" class=\"dataframe\">\n",
       "  <thead>\n",
       "    <tr style=\"text-align: right;\">\n",
       "      <th></th>\n",
       "      <th>type</th>\n",
       "      <th>id</th>\n",
       "      <th>lat</th>\n",
       "      <th>lon</th>\n",
       "      <th>tags</th>\n",
       "    </tr>\n",
       "  </thead>\n",
       "  <tbody>\n",
       "    <tr>\n",
       "      <th>0</th>\n",
       "      <td>node</td>\n",
       "      <td>257690357</td>\n",
       "      <td>53.551760</td>\n",
       "      <td>10.020930</td>\n",
       "      <td>{'amenity': 'fountain'}</td>\n",
       "    </tr>\n",
       "    <tr>\n",
       "      <th>1</th>\n",
       "      <td>node</td>\n",
       "      <td>268192970</td>\n",
       "      <td>53.549850</td>\n",
       "      <td>9.935483</td>\n",
       "      <td>{'amenity': 'fountain', 'image': 'http://commo...</td>\n",
       "    </tr>\n",
       "    <tr>\n",
       "      <th>2</th>\n",
       "      <td>node</td>\n",
       "      <td>276284733</td>\n",
       "      <td>53.545274</td>\n",
       "      <td>9.971903</td>\n",
       "      <td>{'amenity': 'drinking_water', 'drinking_water:...</td>\n",
       "    </tr>\n",
       "    <tr>\n",
       "      <th>3</th>\n",
       "      <td>node</td>\n",
       "      <td>292561393</td>\n",
       "      <td>53.570260</td>\n",
       "      <td>9.980357</td>\n",
       "      <td>{'amenity': 'fountain'}</td>\n",
       "    </tr>\n",
       "    <tr>\n",
       "      <th>4</th>\n",
       "      <td>node</td>\n",
       "      <td>297703374</td>\n",
       "      <td>53.580721</td>\n",
       "      <td>9.704032</td>\n",
       "      <td>{'amenity': 'fountain'}</td>\n",
       "    </tr>\n",
       "  </tbody>\n",
       "</table>\n",
       "</div>"
      ],
      "text/plain": [
       "   type         id        lat        lon  \\\n",
       "0  node  257690357  53.551760  10.020930   \n",
       "1  node  268192970  53.549850   9.935483   \n",
       "2  node  276284733  53.545274   9.971903   \n",
       "3  node  292561393  53.570260   9.980357   \n",
       "4  node  297703374  53.580721   9.704032   \n",
       "\n",
       "                                                tags  \n",
       "0                            {'amenity': 'fountain'}  \n",
       "1  {'amenity': 'fountain', 'image': 'http://commo...  \n",
       "2  {'amenity': 'drinking_water', 'drinking_water:...  \n",
       "3                            {'amenity': 'fountain'}  \n",
       "4                            {'amenity': 'fountain'}  "
      ]
     },
     "execution_count": 51,
     "metadata": {},
     "output_type": "execute_result"
    }
   ],
   "source": [
    "osmdf.head(5)"
   ]
  },
  {
   "cell_type": "code",
   "execution_count": 52,
   "metadata": {},
   "outputs": [
    {
     "data": {
      "text/html": [
       "<div>\n",
       "<style scoped>\n",
       "    .dataframe tbody tr th:only-of-type {\n",
       "        vertical-align: middle;\n",
       "    }\n",
       "\n",
       "    .dataframe tbody tr th {\n",
       "        vertical-align: top;\n",
       "    }\n",
       "\n",
       "    .dataframe thead th {\n",
       "        text-align: right;\n",
       "    }\n",
       "</style>\n",
       "<table border=\"1\" class=\"dataframe\">\n",
       "  <thead>\n",
       "    <tr style=\"text-align: right;\">\n",
       "      <th></th>\n",
       "      <th>type</th>\n",
       "      <th>id</th>\n",
       "      <th>lat</th>\n",
       "      <th>lon</th>\n",
       "      <th>tags</th>\n",
       "    </tr>\n",
       "  </thead>\n",
       "  <tbody>\n",
       "    <tr>\n",
       "      <th>122</th>\n",
       "      <td>node</td>\n",
       "      <td>6426760687</td>\n",
       "      <td>53.623274</td>\n",
       "      <td>10.077671</td>\n",
       "      <td>{'amenity': 'drinking_water'}</td>\n",
       "    </tr>\n",
       "    <tr>\n",
       "      <th>123</th>\n",
       "      <td>node</td>\n",
       "      <td>6487428230</td>\n",
       "      <td>53.563470</td>\n",
       "      <td>10.073625</td>\n",
       "      <td>{'amenity': 'fountain'}</td>\n",
       "    </tr>\n",
       "    <tr>\n",
       "      <th>124</th>\n",
       "      <td>node</td>\n",
       "      <td>6542576093</td>\n",
       "      <td>53.558327</td>\n",
       "      <td>9.823864</td>\n",
       "      <td>{'amenity': 'fountain'}</td>\n",
       "    </tr>\n",
       "    <tr>\n",
       "      <th>125</th>\n",
       "      <td>node</td>\n",
       "      <td>6680240179</td>\n",
       "      <td>53.706815</td>\n",
       "      <td>9.683915</td>\n",
       "      <td>{'amenity': 'fountain'}</td>\n",
       "    </tr>\n",
       "    <tr>\n",
       "      <th>126</th>\n",
       "      <td>node</td>\n",
       "      <td>6699196385</td>\n",
       "      <td>53.620531</td>\n",
       "      <td>10.038560</td>\n",
       "      <td>{'amenity': 'fountain'}</td>\n",
       "    </tr>\n",
       "  </tbody>\n",
       "</table>\n",
       "</div>"
      ],
      "text/plain": [
       "     type          id        lat        lon                           tags\n",
       "122  node  6426760687  53.623274  10.077671  {'amenity': 'drinking_water'}\n",
       "123  node  6487428230  53.563470  10.073625        {'amenity': 'fountain'}\n",
       "124  node  6542576093  53.558327   9.823864        {'amenity': 'fountain'}\n",
       "125  node  6680240179  53.706815   9.683915        {'amenity': 'fountain'}\n",
       "126  node  6699196385  53.620531  10.038560        {'amenity': 'fountain'}"
      ]
     },
     "execution_count": 52,
     "metadata": {},
     "output_type": "execute_result"
    }
   ],
   "source": [
    "osmdf.tail(5)"
   ]
  },
  {
   "cell_type": "markdown",
   "metadata": {},
   "source": [
    "## Export to CSV"
   ]
  },
  {
   "cell_type": "code",
   "execution_count": 62,
   "metadata": {},
   "outputs": [],
   "source": [
    "osmCsvFileName = \"osmFountainsHamburg\"+dt.now().strftime(dtFmt)+\".csv\"\n",
    "osmdf.to_csv(osmCsvFileName, index=False)\n",
    "\n"
   ]
  },
  {
   "cell_type": "code",
   "execution_count": 63,
   "metadata": {},
   "outputs": [
    {
     "name": "stdout",
     "output_type": "stream",
     "text": [
      "wrote 'osmFountainsHamburg191123_123112.csv' with 127 lines\n"
     ]
    }
   ],
   "source": [
    "print(\"wrote '\"+osmCsvFileName+\"' with \"+str(len(osmdf))+\" lines\")"
   ]
  }
 ],
 "metadata": {
  "kernelspec": {
   "display_name": "Python 3",
   "language": "python",
   "name": "python3"
  },
  "language_info": {
   "codemirror_mode": {
    "name": "ipython",
    "version": 3
   },
   "file_extension": ".py",
   "mimetype": "text/x-python",
   "name": "python",
   "nbconvert_exporter": "python",
   "pygments_lexer": "ipython3",
   "version": "3.6.5"
  }
 },
 "nbformat": 4,
 "nbformat_minor": 1
}
