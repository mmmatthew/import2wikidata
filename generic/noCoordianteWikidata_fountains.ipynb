{
 "cells": [
  {
   "cell_type": "markdown",
   "metadata": {},
   "source": [
    "# Automatic check whether osm fountains with wikidata ref have coordinates in Wikidata\n",
    "The following script takes the Q-# obtained from OSM and checks whether those fountains have coordinates in WikiData.\n",
    "If not, the osm coordinates will be added to wikidata with reference to the osm license\n",
    "https://github.com/water-fountains/import2wikidata/issues/15."
   ]
  },
  {
   "cell_type": "markdown",
   "metadata": {},
   "source": [
    "## Initialize environment"
   ]
  },
  {
   "cell_type": "code",
   "execution_count": 1,
   "metadata": {},
   "outputs": [
    {
     "name": "stdout",
     "output_type": "stream",
     "text": [
      "191124_195208\n",
      "Python v 3.6.5\n"
     ]
    }
   ],
   "source": [
    "from datetime import datetime as dt\n",
    "dtFmt = \"%y%m%d_%H%M%S\"\n",
    "print (dt.now().strftime(dtFmt))\n",
    "import pandas as pd\n",
    "import io\n",
    "import numpy as np\n",
    "from urllib.request import urlopen\n",
    "import json\n",
    "from math import *\n",
    "from platform import python_version\n",
    "print(\"Python v \"+python_version())\n",
    "#https://github.com/paulhoule/gastrodon/issues/7 \n",
    "from gastrodon import RemoteEndpoint,QName,ttl,URIRef,inline\n",
    "from matplotlib import pyplot\n"
   ]
  },
  {
   "cell_type": "code",
   "execution_count": 3,
   "metadata": {},
   "outputs": [],
   "source": [
    "#@prefix wikibase: <wikibase: <http://wikiba.se/ontology#> .\n",
    "prefixes=inline(\"\"\"\n",
    "   @prefix wd: <http://www.wikidata.org/entity/> .\n",
    "   @prefix wdt: <http://www.wikidata.org/prop/direct/> .\n",
    "   @prefix rdf: <http://www.w3.org/1999/02/22-rdf-syntax-ns#> .\n",
    "   @prefix rdfs: <http://www.w3.org/2000/01/rdf-schema#> .\n",
    "   @prefix p: <http://www.wikidata.org/prop/> .\n",
    "   @prefix psv: <http://www.wikidata.org/prop/statement/value/> .\n",
    "   @prefix wikibase: <http://wikiba.se/ontology#> .\n",
    "\"\"\").graph\n",
    "endpoint=RemoteEndpoint(\n",
    "   #\"https://query.wikidata.org/sparql\"\n",
    "    \"https://query.wikidata.org/bigdata/namespace/wdq/sparql\"\n",
    "   ,prefixes=prefixes\n",
    ")"
   ]
  },
  {
   "cell_type": "markdown",
   "metadata": {},
   "source": [
    "## Load data"
   ]
  },
  {
   "cell_type": "code",
   "execution_count": 36,
   "metadata": {},
   "outputs": [],
   "source": [
    "df = pd.read_csv(\"osmFountainsWithWikidataReference191124_092526.csv\")"
   ]
  },
  {
   "cell_type": "code",
   "execution_count": 37,
   "metadata": {},
   "outputs": [
    {
     "data": {
      "text/html": [
       "<div>\n",
       "<style scoped>\n",
       "    .dataframe tbody tr th:only-of-type {\n",
       "        vertical-align: middle;\n",
       "    }\n",
       "\n",
       "    .dataframe tbody tr th {\n",
       "        vertical-align: top;\n",
       "    }\n",
       "\n",
       "    .dataframe thead th {\n",
       "        text-align: right;\n",
       "    }\n",
       "</style>\n",
       "<table border=\"1\" class=\"dataframe\">\n",
       "  <thead>\n",
       "    <tr style=\"text-align: right;\">\n",
       "      <th></th>\n",
       "      <th>lat</th>\n",
       "      <th>lon</th>\n",
       "      <th>wikidata</th>\n",
       "    </tr>\n",
       "  </thead>\n",
       "  <tbody>\n",
       "    <tr>\n",
       "      <th>0</th>\n",
       "      <td>47.402830</td>\n",
       "      <td>8.499940</td>\n",
       "      <td>Q27230124</td>\n",
       "    </tr>\n",
       "    <tr>\n",
       "      <th>1</th>\n",
       "      <td>47.409292</td>\n",
       "      <td>8.494851</td>\n",
       "      <td>Q27229864</td>\n",
       "    </tr>\n",
       "    <tr>\n",
       "      <th>2</th>\n",
       "      <td>47.338411</td>\n",
       "      <td>8.532262</td>\n",
       "      <td>Q27230215</td>\n",
       "    </tr>\n",
       "    <tr>\n",
       "      <th>3</th>\n",
       "      <td>47.338468</td>\n",
       "      <td>8.530644</td>\n",
       "      <td>Q27229839</td>\n",
       "    </tr>\n",
       "    <tr>\n",
       "      <th>4</th>\n",
       "      <td>47.344198</td>\n",
       "      <td>8.529788</td>\n",
       "      <td>Q27229951</td>\n",
       "    </tr>\n",
       "  </tbody>\n",
       "</table>\n",
       "</div>"
      ],
      "text/plain": [
       "         lat       lon   wikidata\n",
       "0  47.402830  8.499940  Q27230124\n",
       "1  47.409292  8.494851  Q27229864\n",
       "2  47.338411  8.532262  Q27230215\n",
       "3  47.338468  8.530644  Q27229839\n",
       "4  47.344198  8.529788  Q27229951"
      ]
     },
     "execution_count": 37,
     "metadata": {},
     "output_type": "execute_result"
    }
   ],
   "source": [
    "df.head()"
   ]
  },
  {
   "cell_type": "code",
   "execution_count": 38,
   "metadata": {},
   "outputs": [
    {
     "data": {
      "text/plain": [
       "267"
      ]
     },
     "execution_count": 38,
     "metadata": {},
     "output_type": "execute_result"
    }
   ],
   "source": [
    "len(df)"
   ]
  },
  {
   "cell_type": "markdown",
   "metadata": {},
   "source": [
    "## Identify already existing fountains\n",
    "### Query fountains from Wikidata"
   ]
  },
  {
   "cell_type": "code",
   "execution_count": 39,
   "metadata": {},
   "outputs": [],
   "source": [
    "def coordsFunction(row):    \n",
    "    itemid = row['wikidata']    \n",
    "    query = (\"\"\"SELECT ?lat ?lon\n",
    "    WHERE\n",
    "    {{\n",
    "      wd:%s p:P625 ?statement.\n",
    "    ?statement psv:P625 ?node.\n",
    "    ?node wikibase:geoLatitude ?lat.\n",
    "    ?node wikibase:geoLongitude ?lon.\n",
    "  SERVICE wikibase:label { bd:serviceParam wikibase:language \"[AUTO_LANGUAGE],en\". }\n",
    "    }}\"\"\")%itemid    \n",
    "    print(itemid)\n",
    "    data = endpoint.select(query)\n",
    "    #print(itemid+\" \"+data['lat'])\n",
    "    wdDf = pd.DataFrame(data)\n",
    "    #wdDf\n",
    "    if  len(wdDf.values) == 0:\n",
    "        return 'noCoord'\n",
    "    return wdDf.values[0][0]\n"
   ]
  },
  {
   "cell_type": "code",
   "execution_count": 40,
   "metadata": {},
   "outputs": [
    {
     "name": "stdout",
     "output_type": "stream",
     "text": [
      "Q27230124\n",
      "Q27229864\n",
      "Q27230215\n",
      "Q27229839\n",
      "Q27229951\n",
      "Q27229857\n",
      "Q27230182\n",
      "Q27229899\n",
      "Q55169625\n",
      "Q27229818\n",
      "Q27230098\n",
      "Q27229885\n",
      "Q27230198\n",
      "Q27230202\n",
      "Q55166802\n",
      "Q27229775\n",
      "Q27230014\n",
      "Q27230180\n",
      "Q27229957\n",
      "Q55166749\n",
      "Q27230049\n",
      "Q27229889\n",
      "Q27229977\n",
      "Q27229956\n",
      "Q27229909\n",
      "Q27229959\n",
      "Q27229964\n",
      "Q27230021\n",
      "Q27229888\n",
      "Q55165905\n",
      "Q55169659\n",
      "Q27229914\n",
      "Q27230113\n",
      "Q27229971\n",
      "Q55166163\n",
      "Q27229965\n",
      "Q27230185\n",
      "Q27229658\n",
      "Q55166819\n",
      "Q27229783\n",
      "Q27229890\n",
      "Q27229960\n",
      "Q27229877\n",
      "Q27229787\n",
      "Q55166799\n",
      "Q27229689\n",
      "Q27229892\n",
      "Q27230209\n",
      "Q27230353\n",
      "Q55170092\n",
      "Q27229904\n",
      "Q55169693\n",
      "Q55170009\n",
      "Q55170006\n",
      "Q55170003\n",
      "Q55170000\n",
      "Q55169998\n",
      "Q55169995\n",
      "Q55170013\n",
      "Q55170762\n",
      "Q27230047\n",
      "Q27229670\n",
      "Q27230203\n",
      "Q27229779\n",
      "Q27230229\n",
      "Q27229659\n",
      "Q27230090\n",
      "Q27230201\n",
      "Q27230102\n",
      "Q27229685\n",
      "Q27230181\n",
      "Q27230071\n",
      "Q27230018\n",
      "Q27229881\n",
      "Q55166813\n",
      "Q27230011\n",
      "Q27229958\n",
      "Q27230126\n",
      "Q27230134\n",
      "Q27229662\n",
      "Q27229669\n",
      "Q27229660\n",
      "Q27229664\n",
      "Q27229945\n",
      "Q27230070\n",
      "Q27229827\n",
      "Q55166825\n",
      "Q27230216\n",
      "Q64015724\n",
      "Q55166416\n",
      "Q27229887\n",
      "Q27230178\n",
      "Q27229891\n",
      "Q27229785\n",
      "Q55166615\n",
      "Q55166804\n",
      "Q27229858\n",
      "Q27230094\n",
      "Q27230183\n",
      "Q27230037\n",
      "Q63715939\n",
      "Q27230038\n",
      "Q27229681\n",
      "Q27229661\n",
      "Q27230009\n",
      "Q27229840\n",
      "Q27229886\n",
      "Q27229782\n",
      "Q27229848\n",
      "Q27229967\n",
      "Q27229923\n",
      "Q27229847\n",
      "Q27230165\n",
      "Q27230211\n",
      "Q27230040\n",
      "Q27230055\n",
      "Q27229948\n",
      "Q55166831\n",
      "Q55166070\n",
      "Q27229884\n",
      "Q27230145\n",
      "Q27229954\n",
      "Q27229697\n",
      "Q27230033\n",
      "Q27230085\n",
      "Q27230062\n",
      "Q27229997\n",
      "Q27229690\n",
      "Q27229917\n",
      "Q27230160\n",
      "Q27230205\n",
      "Q55169056\n",
      "Q27230005\n",
      "Q55169209\n",
      "Q27229841\n",
      "Q27229950\n",
      "Q55166811\n",
      "Q27229836\n",
      "Q27230226\n",
      "Q27230191\n",
      "Q27229926\n",
      "Q27229907\n",
      "Q55171004\n",
      "Q27229671\n",
      "Q27230190\n",
      "Q27230080\n",
      "Q27229676\n",
      "Q27229929\n",
      "Q27229687\n",
      "Q27230164\n",
      "Q55169633\n",
      "Q55169252\n",
      "Q27229934\n",
      "Q27229865\n",
      "Q55167944\n",
      "Q27230105\n",
      "Q27229875\n",
      "Q27230192\n",
      "Q27229826\n",
      "Q55167968\n",
      "Q27230003\n",
      "Q27230028\n",
      "Q27229893\n",
      "Q27230076\n",
      "Q27230001\n",
      "Q55166177\n",
      "Q55166125\n",
      "Q27132067\n",
      "Q27229902\n",
      "Q27229668\n",
      "Q1760194\n",
      "Q27230035\n",
      "Q27229648\n",
      "Q27229863\n",
      "Q27229896\n",
      "Q27230173\n",
      "Q55167924\n",
      "Q55166175\n",
      "Q27229969\n",
      "Q27229822\n",
      "Q55166062\n",
      "Q27230114\n",
      "Q27230149\n",
      "Q27230119\n",
      "Q27229874\n",
      "Q55170097\n",
      "Q27230013\n",
      "Q27229692\n",
      "Q27229935\n",
      "Q14906793\n",
      "Q27230179\n",
      "Q55166828\n",
      "Q55166823\n",
      "Q55167903\n",
      "Q27229842\n",
      "Q27229832\n",
      "Q27229831\n",
      "Q27229789\n",
      "Q27229879\n",
      "Q27229861\n",
      "Q27229859\n",
      "Q27229849\n",
      "Q27229963\n",
      "Q27229939\n",
      "Q27229937\n",
      "Q27229933\n",
      "Q27229924\n",
      "Q27229906\n",
      "Q27229993\n",
      "Q27230122\n",
      "Q27230121\n",
      "Q27230112\n",
      "Q27230074\n",
      "Q27230053\n",
      "Q27230045\n",
      "Q27230044\n",
      "Q27230224\n",
      "Q27230223\n",
      "Q27230219\n",
      "Q27230214\n",
      "Q27230212\n",
      "Q27230208\n",
      "Q27230207\n",
      "Q27230197\n",
      "Q27230194\n",
      "Q27230188\n",
      "Q27230186\n",
      "Q27230171\n",
      "Q27230169\n",
      "Q27230162\n",
      "Q27230155\n",
      "Q27230153\n",
      "Q27230135\n",
      "Q27230131\n",
      "Q27230128\n",
      "Q27230150\n",
      "Q55171130\n",
      "Q55170946\n",
      "Q55169705\n",
      "Q55170862\n",
      "Q27230144\n",
      "Q63863130\n",
      "Q55958199\n",
      "Q27229673\n",
      "Q27229900\n",
      "Q55170215\n",
      "Q27229903\n",
      "Q55170437\n",
      "Q63956193\n",
      "Q64174346\n",
      "Q64174640\n",
      "Q55166086\n",
      "Q55170911\n",
      "Q55169972\n",
      "Q55170997\n",
      "Q55170103\n",
      "Q55170016\n",
      "Q55169900\n",
      "Q55170363\n",
      "Q55170379\n",
      "Q65548962\n",
      "Q74369417\n",
      "Q55170211\n",
      "Q67588104\n",
      "Q67588045\n",
      "Q67587947\n",
      "Q74171778\n"
     ]
    }
   ],
   "source": [
    "# Perform query on each dw\n",
    "result = df.apply(coordsFunction,axis=1)"
   ]
  },
  {
   "cell_type": "code",
   "execution_count": 41,
   "metadata": {},
   "outputs": [
    {
     "data": {
      "text/plain": [
       "0    47.4028\n",
       "1    47.4093\n",
       "2    47.3384\n",
       "3    47.3385\n",
       "4    47.3442\n",
       "dtype: object"
      ]
     },
     "execution_count": 41,
     "metadata": {},
     "output_type": "execute_result"
    }
   ],
   "source": [
    "result.head()"
   ]
  },
  {
   "cell_type": "code",
   "execution_count": 42,
   "metadata": {},
   "outputs": [],
   "source": [
    "query_result = pd.concat([df,result],ignore_index=True, axis=1)"
   ]
  },
  {
   "cell_type": "code",
   "execution_count": 43,
   "metadata": {
    "scrolled": true
   },
   "outputs": [
    {
     "name": "stdout",
     "output_type": "stream",
     "text": [
      "\n",
      "\n",
      "Total number of rows incl. duplicates 267 size 1068\n"
     ]
    }
   ],
   "source": [
    "#print(query_string)\n",
    "print(\"\\n\\nTotal number of rows incl. duplicates \"+str(len(query_result))+\" size \"+str(query_result.size))"
   ]
  },
  {
   "cell_type": "code",
   "execution_count": 44,
   "metadata": {},
   "outputs": [
    {
     "data": {
      "text/html": [
       "<div>\n",
       "<style scoped>\n",
       "    .dataframe tbody tr th:only-of-type {\n",
       "        vertical-align: middle;\n",
       "    }\n",
       "\n",
       "    .dataframe tbody tr th {\n",
       "        vertical-align: top;\n",
       "    }\n",
       "\n",
       "    .dataframe thead th {\n",
       "        text-align: right;\n",
       "    }\n",
       "</style>\n",
       "<table border=\"1\" class=\"dataframe\">\n",
       "  <thead>\n",
       "    <tr style=\"text-align: right;\">\n",
       "      <th></th>\n",
       "      <th>0</th>\n",
       "      <th>1</th>\n",
       "      <th>2</th>\n",
       "      <th>3</th>\n",
       "    </tr>\n",
       "  </thead>\n",
       "  <tbody>\n",
       "    <tr>\n",
       "      <th>0</th>\n",
       "      <td>47.402830</td>\n",
       "      <td>8.499940</td>\n",
       "      <td>Q27230124</td>\n",
       "      <td>47.4028</td>\n",
       "    </tr>\n",
       "    <tr>\n",
       "      <th>1</th>\n",
       "      <td>47.409292</td>\n",
       "      <td>8.494851</td>\n",
       "      <td>Q27229864</td>\n",
       "      <td>47.4093</td>\n",
       "    </tr>\n",
       "    <tr>\n",
       "      <th>2</th>\n",
       "      <td>47.338411</td>\n",
       "      <td>8.532262</td>\n",
       "      <td>Q27230215</td>\n",
       "      <td>47.3384</td>\n",
       "    </tr>\n",
       "    <tr>\n",
       "      <th>3</th>\n",
       "      <td>47.338468</td>\n",
       "      <td>8.530644</td>\n",
       "      <td>Q27229839</td>\n",
       "      <td>47.3385</td>\n",
       "    </tr>\n",
       "    <tr>\n",
       "      <th>4</th>\n",
       "      <td>47.344198</td>\n",
       "      <td>8.529788</td>\n",
       "      <td>Q27229951</td>\n",
       "      <td>47.3442</td>\n",
       "    </tr>\n",
       "  </tbody>\n",
       "</table>\n",
       "</div>"
      ],
      "text/plain": [
       "           0         1          2        3\n",
       "0  47.402830  8.499940  Q27230124  47.4028\n",
       "1  47.409292  8.494851  Q27229864  47.4093\n",
       "2  47.338411  8.532262  Q27230215  47.3384\n",
       "3  47.338468  8.530644  Q27229839  47.3385\n",
       "4  47.344198  8.529788  Q27229951  47.3442"
      ]
     },
     "execution_count": 44,
     "metadata": {},
     "output_type": "execute_result"
    }
   ],
   "source": [
    "query_result.head()"
   ]
  },
  {
   "cell_type": "markdown",
   "metadata": {},
   "source": [
    "## Create Quickstatement commands from data\n",
    "### Helper functions to format content according to Quickstatements v1 syntax"
   ]
  },
  {
   "cell_type": "code",
   "execution_count": 47,
   "metadata": {},
   "outputs": [],
   "source": [
    "def process_coordinates(x, y):\n",
    "    # format geographic coordinates\n",
    "    return '@{1:1.8f}/{0:1.8f}'.format(x,y)\n",
    "\n",
    "\n",
    "def createline(lines, item, prop, value, extra, qualifiers=[]):\n",
    "    # general function to create Quickstatement v1 commands\n",
    "    if value != '' and value != '\"\"':\n",
    "        statement = '{}\\t{}\\t{}'.format(item, prop, value)\n",
    "        if len(qualifiers):\n",
    "            # append qualifiers if applicable\n",
    "            for q in qualifiers:\n",
    "                statement += '\\t{}\\t{}'.format(q['prop'], q['value'])\n",
    "        statement += extra\n",
    "        statement += '\\n'\n",
    "        lines.append(statement)\n",
    "    return lines"
   ]
  },
  {
   "cell_type": "markdown",
   "metadata": {},
   "source": [
    "### Create statements, taking care not to overwrite existing data"
   ]
  },
  {
   "cell_type": "code",
   "execution_count": 59,
   "metadata": {},
   "outputs": [
    {
     "name": "stdout",
     "output_type": "stream",
     "text": [
      "1:\torphan coordinates will be added for https://www.wikidata.org/wiki/Q64015724 in pos 89\n",
      "2:\torphan coordinates will be added for https://www.wikidata.org/wiki/Q63715939 in pos 101\n",
      "3:\torphan coordinates will be added for https://www.wikidata.org/wiki/Q64174346 in pos 250\n",
      "4:\torphan coordinates will be added for https://www.wikidata.org/wiki/Q64174640 in pos 251\n",
      "5:\torphan coordinates will be added for https://www.wikidata.org/wiki/Q65548962 in pos 261\n",
      "6:\torphan coordinates will be added for https://www.wikidata.org/wiki/Q74369417 in pos 262\n",
      "7:\torphan coordinates will be added for https://www.wikidata.org/wiki/Q67588104 in pos 264\n",
      "8:\torphan coordinates will be added for https://www.wikidata.org/wiki/Q67588045 in pos 265\n",
      "9:\torphan coordinates will be added for https://www.wikidata.org/wiki/Q67587947 in pos 266\n",
      "10:\torphan coordinates will be added for https://www.wikidata.org/wiki/Q74171778 in pos 267\n"
     ]
    }
   ],
   "source": [
    "statedId = \"\\tS248\\tQ1224853\"\n",
    "# initialize command storage list\n",
    "lines = []\n",
    "i=0\n",
    "j=0\n",
    "for index, row in query_result.iterrows():\n",
    "    i+=1\n",
    "\n",
    "    if row[3] == 'noCoord':\n",
    "        j+=1\n",
    "        # coordinates\n",
    "        print(str(j)+\":\\torphan coordinates will be added for https://www.wikidata.org/wiki/\"+row[2]+\" in pos \"+str(i))\n",
    "        #TODO how to add ' target=\"_blank\" '\n",
    "        #TODO how to make only the Q-# visible, but the whole link anyway\n",
    "        lines = createline(lines, row[2], 'P625', process_coordinates(row[1], row[0]),statedId)\n",
    "    #else:\n",
    "    #    print(str(i)+\": \"+\" ignore \"+row[2])\n",
    "        "
   ]
  },
  {
   "cell_type": "markdown",
   "metadata": {},
   "source": [
    "# Write commands to file"
   ]
  },
  {
   "cell_type": "code",
   "execution_count": 63,
   "metadata": {
    "scrolled": true
   },
   "outputs": [
    {
     "name": "stdout",
     "output_type": "stream",
     "text": [
      "wrote 'quickstatement_commands_locOrphan_fountain_191125_072628.txt' with 10 lines\n"
     ]
    }
   ],
   "source": [
    "quickStatFileName = \"quickstatement_commands_locOrphan_fountain_\"+dt.now().strftime(dtFmt)+\".txt\"\n",
    "with io.open(quickStatFileName, \"w\", encoding='utf8') as f:\n",
    "    f.writelines(lines)\n",
    "print(\"wrote '\"+quickStatFileName+\"' with \"+str(len(lines))+\" lines\")"
   ]
  },
  {
   "cell_type": "markdown",
   "metadata": {},
   "source": [
    "# Import into Wikidata\n",
    "- Go to https://tools.wmflabs.org/wikidata-todo/quick_statements.php.\n",
    "- Authenticate yourself with your Wikidata account.\n",
    "- Copy and paste the contents of quickstatement_commands*.txt into the blank field, and run the commands\n",
    "\n",
    "Caveats\n",
    "- do not interrupt this - it may take some time !  \n",
    "- if you restart it, you may produce duplicates - if you think you have to restart, first wait half an hour !"
   ]
  },
  {
   "cell_type": "markdown",
   "metadata": {},
   "source": [
    "see ../20191030_1600_import.png\n",
    "\n",
    "...\n",
    "58. Processing Q72935495 (Q72935495 Lde \"Brunnen (Seelöwe-Planschbecken )\")\n",
    "59. Processing Q72935495 (Q72935495 P137 Q27229237)\n",
    "\n",
    "All done!."
   ]
  },
  {
   "cell_type": "code",
   "execution_count": 15,
   "metadata": {},
   "outputs": [],
   "source": [
    "# it may well take half an hour until it works and becomes visible on https://query.wikidata.org/"
   ]
  },
  {
   "cell_type": "code",
   "execution_count": 61,
   "metadata": {},
   "outputs": [],
   "source": [
    "#TODO Take the opposite approach: instead of querying osm first, do sparql to get the fountain instances without coordinates"
   ]
  }
 ],
 "metadata": {
  "kernelspec": {
   "display_name": "Python 3",
   "language": "python",
   "name": "python3"
  },
  "language_info": {
   "codemirror_mode": {
    "name": "ipython",
    "version": 3
   },
   "file_extension": ".py",
   "mimetype": "text/x-python",
   "name": "python",
   "nbconvert_exporter": "python",
   "pygments_lexer": "ipython3",
   "version": "3.6.5"
  }
 },
 "nbformat": 4,
 "nbformat_minor": 2
}
