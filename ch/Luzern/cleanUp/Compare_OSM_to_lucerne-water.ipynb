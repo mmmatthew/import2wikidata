{
 "cells": [
  {
   "cell_type": "code",
   "execution_count": 1,
   "metadata": {},
   "outputs": [
    {
     "name": "stdout",
     "output_type": "stream",
     "text": [
      "191129_164432\n",
      "Python v 3.6.5\n"
     ]
    }
   ],
   "source": [
    "from datetime import datetime as dt\n",
    "dtFmt = \"%y%m%d_%H%M%S\"\n",
    "print (dt.now().strftime(dtFmt))\n",
    "import pandas as pd\n",
    "import io\n",
    "import numpy as np\n",
    "from urllib.request import urlopen\n",
    "import json\n",
    "from math import *\n",
    "from platform import python_version\n",
    "print(\"Python v \"+python_version())\n",
    "#https://github.com/paulhoule/gastrodon/issues/7 \n",
    "from gastrodon import RemoteEndpoint,QName,ttl,URIRef,inline\n",
    "from matplotlib import pyplot"
   ]
  },
  {
   "cell_type": "markdown",
   "metadata": {},
   "source": [
    "### Load Data"
   ]
  },
  {
   "cell_type": "code",
   "execution_count": 21,
   "metadata": {},
   "outputs": [],
   "source": [
    "osm_fountains_df = pd.read_csv(\"osmFountains_Luzern_191129_180817.csv\")\n",
    "lucerne_fountains_df = pd.read_csv(\"lucerne-water_fountains_191129_145619.csv\")"
   ]
  },
  {
   "cell_type": "markdown",
   "metadata": {},
   "source": [
    "### Find close fountains"
   ]
  },
  {
   "cell_type": "code",
   "execution_count": 46,
   "metadata": {},
   "outputs": [],
   "source": [
    "buffer = 0.0003\n",
    "duplicate_list = []\n",
    "for lucerne_index, lucerne_fountain in lucerne_fountains_df.iterrows():\n",
    "    for osm_index, osm_fountain in osm_fountains_df.iterrows():\n",
    "        if abs( float(osm_fountain['lat']) - float(lucerne_fountain['latitude']) ) < buffer:\n",
    "            if abs(float(osm_fountain['lon']) - float(lucerne_fountain['longitude'])) < buffer:\n",
    "                duplicate_list.append(((osm_fountain['type'], osm_fountain['id']), lucerne_fountain['Name']))"
   ]
  },
  {
   "cell_type": "markdown",
   "metadata": {},
   "source": [
    "###### Testing-area"
   ]
  },
  {
   "cell_type": "code",
   "execution_count": 47,
   "metadata": {},
   "outputs": [
    {
     "name": "stdout",
     "output_type": "stream",
     "text": [
      "[(('node', 4307159445), 'Rotseebrunnen'), (('node', 3802363039), 'Trotteliquaibrunnen'), (('node', 5046386221), 'Sonnmattbrunnen'), (('node', 2710885484), 'Museggbrunnen'), (('node', 5101409127), 'Gymnasi- oder Jesuitenbrunnen'), (('node', 6328879685), 'LÃ¶wenbrunnen'), (('node', 4246925895), 'Falknerbrunnen'), (('node', 6205696285), 'Alter GrÃ¼tterbrunnen'), (('node', 2777418370), 'DrachentÃ¶terbrunnen'), (('node', 1119434472), 'Tellbrunnen'), (('node', 1518396263), 'Bundesplatzbrunnen'), (('node', 4365018289), 'HochbÃ¼hlbrunnen'), (('node', 1315017855), 'Viehmarktbrunnen'), (('node', 1026917646), 'Zeughaus- oder Pfistergassbrunnen'), (('node', 4228778894), 'Zeughaus- oder Pfistergassbrunnen'), (('node', 1291790585), 'Chosli'), (('node', 4278152889), 'Marienbrunnen'), (('node', 1931871416), 'Franziskusbrunnen'), (('node', 1291790585), 'Putten- oder KrienbrÃ¼gglibrunnen'), (('node', 1329927413), 'Baigneuse-Brunnen'), (('node', 4483851900), 'Taubenhausbrunnen'), (('node', 5237748123), 'Rossbrunnen Pauluskirche'), (('node', 4985507722), 'ReckenbÃ¼hlbrunnen'), (('node', 4403448369), 'Sempacherbrunnen'), (('node', 4097156494), 'VÃ¶geligÃ¤rtlibrunnen'), (('node', 4328500400), 'Inseliparkbrunnen'), (('way', 98714737), 'Wagenbachbrunnen'), (('node', 1495294235), 'Neptunbrunnen'), (('node', 2774912698), 'Neptunbrunnen'), (('node', 6300786860), 'Neptunbrunnen'), (('node', 1014206739), 'Weinmarktbrunnen'), (('node', 2710885489), 'GÃ¤nsemÃ¤nnchenbrunnen'), (('node', 4268534114), 'GÃ¤nsemÃ¤nnchenbrunnen'), (('node', 1329925732), 'Fischbrunnen '), (('node', 1329925735), 'Kornmarktbrunnen'), (('node', 3618126905), 'Kornmarktbrunnen'), (('node', 2704107812), 'Schlosserbrunnen'), (('node', 2781194406), 'Schlosserbrunnen'), (('node', 4254739709), 'Furrengassbrunnen'), (('node', 1158988930), 'Fritschibrunnen'), (('node', 2781193221), 'Stiefelbrunnen'), (('node', 6711634517), 'Westspringbrunnen Platz Nationalquai Musikpavillon'), (('node', 6711634518), 'Schweizerofquaibrunnen'), (('node', 1584421559), 'Ostspringbrunnen Nationalquai Musikpavillon'), (('node', 2893533886), 'Stifts- oder Hofbrunnen'), (('node', 5098549922), 'Bacchusbrunnen'), (('node', 1329925735), 'Gockelbrunnen'), (('node', 3618126905), 'Gockelbrunnen'), (('way', 138478737), 'Speuzerbrunnen'), (('node', 3510791187), 'LÃ¶wenplatzbrunnen'), (('node', 2112611116), 'Weybrunnen'), (('node', 2112611052), 'Hofkirchbrunnen'), (('node', 5018120722), 'MÃ¼hlenbachbrunnen'), (('node', 5018111022), 'GrÃ¼tterbrunnen'), (('node', 4574572605), 'Kleiner Franziskanerbrunnen'), (('node', 1291790585), 'Privater Brunnenanschluss'), (('node', 1931871416), 'Privater Brunnenanschluss'), (('node', 313278978), 'Springbrunnen Bleicherstrasse 17'), (('node', 313278978), 'Gussbrunnen'), (('node', 1495294235), 'Schwanenbrunnen'), (('node', 1316866644), 'Trinkbrunnen'), (('node', 1316866644), 'Hofbrunnen RÃ¶ssligasse'), (('way', 117057308), 'Wandbrunnen von Moos'), (('node', 2781193221), 'Privater Brunnenanschluss'), (('node', 6805942421), 'Industriestrassenbrunnen'), (('node', 4268486329), 'Hertensteinbrunnen'), (('node', 3644193100), 'Steinhof Springbrunnen'), (('way', 116906481), 'RÃ¶sslimattbrunnen'), (('node', 1760001166), 'Wandbrunnen Moosmattstrasse'), (('node', 2582215106), 'Eisenbahnerbrunnen'), (('node', 1142021145), 'SchÃ¶ttibrunnen'), (('node', 1995102724), 'GÃ¼tschbrunnen'), (('node', 4306315223), 'Fluhmattbrunnen'), (('node', 1265108860), 'Bootshafenbrunnen '), (('node', 6815608587), 'Baselstrassebrunnen'), (('node', 6815608587), 'Ruckstuhlbrunnen'), (('node', 5018108225), 'SchÃ¤ferwegbrunnen'), (('node', 4537650800), 'Zimmerwerkbrunnen II'), (('node', 4537608201), 'Zimmerwerkbrunnen'), (('node', 3594890179), 'FÃ¶rsterbrunnen GÃ¼tsch'), (('node', 4403448378), 'LÃ¤delibrunnen'), (('node', 1760001158), 'MilitÃ¤rgartenbrunnen'), (('node', 2412280347), 'Dorfbrunnen'), (('node', 1103264261), 'SchÃ¤flibrunnen oder Wandbrunnen'), (('node', 2412280350), 'Heidibrunnen'), (('node', 4687300989), 'Kapuzinerbrunnen'), (('node', 6190684113), 'Wandbrunnen St. Karli'), (('node', 5981271885), 'Murmattbrunnen'), (('way', 119554190), 'Schulhausbrunnen Wartegg'), (('node', 4306260759), 'Schulhausbrunnen Maihof'), (('node', 5075370827), 'Friedentalbrunnen'), (('node', 6772336594), 'Wandbrunnen Bernstrasse'), (('node', 6183396415), 'Privater Brunnenanschluss'), (('node', 4858367868), 'Libellenbrunnen'), (('node', 2919124651), 'Maihofbrunnen'), (('node', 4498333090), 'Holzbrunnen'), (('node', 4947096623), 'Gartenheimbrunnen'), (('node', 3629288827), 'Privater Brunnenanschluss'), (('node', 3933497579), 'Privater Brunnenanschluss'), (('node', 5602979360), 'Runenbrunnen')]\n",
      "100\n"
     ]
    }
   ],
   "source": [
    "print(duplicate_list)\n",
    "print(len(duplicate_list))"
   ]
  },
  {
   "cell_type": "markdown",
   "metadata": {},
   "source": [
    "### prints names of fountains that are in lucerne_water-fountains and could match with the osm-fountains"
   ]
  },
  {
   "cell_type": "code",
   "execution_count": 49,
   "metadata": {},
   "outputs": [
    {
     "name": "stdout",
     "output_type": "stream",
     "text": [
      "Rotseebrunnen\n",
      "Trotteliquaibrunnen\n",
      "Sonnmattbrunnen\n",
      "Museggbrunnen\n",
      "Gymnasi- oder Jesuitenbrunnen\n",
      "LÃ¶wenbrunnen\n",
      "Falknerbrunnen\n",
      "Alter GrÃ¼tterbrunnen\n",
      "DrachentÃ¶terbrunnen\n",
      "Tellbrunnen\n",
      "Bundesplatzbrunnen\n",
      "HochbÃ¼hlbrunnen\n",
      "Viehmarktbrunnen\n",
      "Zeughaus- oder Pfistergassbrunnen\n",
      "Zeughaus- oder Pfistergassbrunnen\n",
      "Chosli\n",
      "Marienbrunnen\n",
      "Franziskusbrunnen\n",
      "Putten- oder KrienbrÃ¼gglibrunnen\n",
      "Baigneuse-Brunnen\n",
      "Taubenhausbrunnen\n",
      "Rossbrunnen Pauluskirche\n",
      "ReckenbÃ¼hlbrunnen\n",
      "Sempacherbrunnen\n",
      "VÃ¶geligÃ¤rtlibrunnen\n",
      "Inseliparkbrunnen\n",
      "Wagenbachbrunnen\n",
      "Neptunbrunnen\n",
      "Neptunbrunnen\n",
      "Neptunbrunnen\n",
      "Weinmarktbrunnen\n",
      "GÃ¤nsemÃ¤nnchenbrunnen\n",
      "GÃ¤nsemÃ¤nnchenbrunnen\n",
      "Fischbrunnen \n",
      "Kornmarktbrunnen\n",
      "Kornmarktbrunnen\n",
      "Schlosserbrunnen\n",
      "Schlosserbrunnen\n",
      "Furrengassbrunnen\n",
      "Fritschibrunnen\n",
      "Stiefelbrunnen\n",
      "Westspringbrunnen Platz Nationalquai Musikpavillon\n",
      "Schweizerofquaibrunnen\n",
      "Ostspringbrunnen Nationalquai Musikpavillon\n",
      "Stifts- oder Hofbrunnen\n",
      "Bacchusbrunnen\n",
      "Gockelbrunnen\n",
      "Gockelbrunnen\n",
      "Speuzerbrunnen\n",
      "LÃ¶wenplatzbrunnen\n",
      "Weybrunnen\n",
      "Hofkirchbrunnen\n",
      "MÃ¼hlenbachbrunnen\n",
      "GrÃ¼tterbrunnen\n",
      "Kleiner Franziskanerbrunnen\n",
      "Privater Brunnenanschluss\n",
      "Privater Brunnenanschluss\n",
      "Springbrunnen Bleicherstrasse 17\n",
      "Gussbrunnen\n",
      "Schwanenbrunnen\n",
      "Trinkbrunnen\n",
      "Hofbrunnen RÃ¶ssligasse\n",
      "Wandbrunnen von Moos\n",
      "Privater Brunnenanschluss\n",
      "Industriestrassenbrunnen\n",
      "Hertensteinbrunnen\n",
      "Steinhof Springbrunnen\n",
      "RÃ¶sslimattbrunnen\n",
      "Wandbrunnen Moosmattstrasse\n",
      "Eisenbahnerbrunnen\n",
      "SchÃ¶ttibrunnen\n",
      "GÃ¼tschbrunnen\n",
      "Fluhmattbrunnen\n",
      "Bootshafenbrunnen \n",
      "Baselstrassebrunnen\n",
      "Ruckstuhlbrunnen\n",
      "SchÃ¤ferwegbrunnen\n",
      "Zimmerwerkbrunnen II\n",
      "Zimmerwerkbrunnen\n",
      "FÃ¶rsterbrunnen GÃ¼tsch\n",
      "LÃ¤delibrunnen\n",
      "MilitÃ¤rgartenbrunnen\n",
      "Dorfbrunnen\n",
      "SchÃ¤flibrunnen oder Wandbrunnen\n",
      "Heidibrunnen\n",
      "Kapuzinerbrunnen\n",
      "Wandbrunnen St. Karli\n",
      "Murmattbrunnen\n",
      "Schulhausbrunnen Wartegg\n",
      "Schulhausbrunnen Maihof\n",
      "Friedentalbrunnen\n",
      "Wandbrunnen Bernstrasse\n",
      "Privater Brunnenanschluss\n",
      "Libellenbrunnen\n",
      "Maihofbrunnen\n",
      "Holzbrunnen\n",
      "Gartenheimbrunnen\n",
      "Privater Brunnenanschluss\n",
      "Privater Brunnenanschluss\n",
      "Runenbrunnen\n"
     ]
    }
   ],
   "source": [
    "buffer = 0.0003\n",
    "duplicate_list = []\n",
    "for lucerne_index, lucerne_fountain in lucerne_fountains_df.iterrows():\n",
    "    for osm_index, osm_fountain in osm_fountains_df.iterrows():\n",
    "        if abs( float(osm_fountain['lat']) - float(lucerne_fountain['latitude']) ) < buffer:\n",
    "            if abs(float(osm_fountain['lon']) - float(lucerne_fountain['longitude'])) < buffer:\n",
    "                print(lucerne_fountain['Name'])\n"
   ]
  }
 ],
 "metadata": {
  "kernelspec": {
   "display_name": "Python 3",
   "language": "python",
   "name": "python3"
  },
  "language_info": {
   "codemirror_mode": {
    "name": "ipython",
    "version": 3
   },
   "file_extension": ".py",
   "mimetype": "text/x-python",
   "name": "python",
   "nbconvert_exporter": "python",
   "pygments_lexer": "ipython3",
   "version": "3.6.5"
  }
 },
 "nbformat": 4,
 "nbformat_minor": 2
}
