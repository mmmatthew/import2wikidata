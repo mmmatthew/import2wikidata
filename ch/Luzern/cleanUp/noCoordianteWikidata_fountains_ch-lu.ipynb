{
 "cells": [
  {
   "cell_type": "markdown",
   "metadata": {},
   "source": [
    "# Automatic check whether osm fountains with wikidata ref have coordinates in Wikidata Luzern\n",
    "The following script takes the Q-# obtained from OSM and checks whether those fountains have coordinates in WikiData.\n",
    "If not, the osm coordinates will be added to wikidata with reference to the osm license\n",
    "https://github.com/water-fountains/import2wikidata/issues/15."
   ]
  },
  {
   "cell_type": "code",
   "execution_count": 1,
   "metadata": {},
   "outputs": [],
   "source": [
    "#TODO import most functions from ../../generic"
   ]
  },
  {
   "cell_type": "markdown",
   "metadata": {},
   "source": [
    "## Initialize environment"
   ]
  },
  {
   "cell_type": "code",
   "execution_count": 2,
   "metadata": {},
   "outputs": [
    {
     "name": "stdout",
     "output_type": "stream",
     "text": [
      "191125_074641\n",
      "Python v 3.6.5\n"
     ]
    }
   ],
   "source": [
    "from datetime import datetime as dt\n",
    "dtFmt = \"%y%m%d_%H%M%S\"\n",
    "print (dt.now().strftime(dtFmt))\n",
    "import pandas as pd\n",
    "import io\n",
    "import numpy as np\n",
    "from urllib.request import urlopen\n",
    "import json\n",
    "from math import *\n",
    "from platform import python_version\n",
    "print(\"Python v \"+python_version())\n",
    "#https://github.com/paulhoule/gastrodon/issues/7 \n",
    "from gastrodon import RemoteEndpoint,QName,ttl,URIRef,inline\n",
    "from matplotlib import pyplot\n",
    "\n",
    "nameOfRegion='Luzern'"
   ]
  },
  {
   "cell_type": "code",
   "execution_count": 3,
   "metadata": {},
   "outputs": [],
   "source": [
    "#@prefix wikibase: <wikibase: <http://wikiba.se/ontology#> .\n",
    "prefixes=inline(\"\"\"\n",
    "   @prefix wd: <http://www.wikidata.org/entity/> .\n",
    "   @prefix wdt: <http://www.wikidata.org/prop/direct/> .\n",
    "   @prefix rdf: <http://www.w3.org/1999/02/22-rdf-syntax-ns#> .\n",
    "   @prefix rdfs: <http://www.w3.org/2000/01/rdf-schema#> .\n",
    "   @prefix p: <http://www.wikidata.org/prop/> .\n",
    "   @prefix psv: <http://www.wikidata.org/prop/statement/value/> .\n",
    "   @prefix wikibase: <http://wikiba.se/ontology#> .\n",
    "\"\"\").graph\n",
    "endpoint=RemoteEndpoint(\n",
    "   #\"https://query.wikidata.org/sparql\"\n",
    "    \"https://query.wikidata.org/bigdata/namespace/wdq/sparql\"\n",
    "   ,prefixes=prefixes\n",
    ")"
   ]
  },
  {
   "cell_type": "markdown",
   "metadata": {},
   "source": [
    "## Load data"
   ]
  },
  {
   "cell_type": "code",
   "execution_count": 4,
   "metadata": {},
   "outputs": [],
   "source": [
    "df = pd.read_csv(\"osmFountainsWithWikidataReference_Luzern_191125_074112.csv\")"
   ]
  },
  {
   "cell_type": "code",
   "execution_count": 5,
   "metadata": {},
   "outputs": [
    {
     "data": {
      "text/html": [
       "<div>\n",
       "<style scoped>\n",
       "    .dataframe tbody tr th:only-of-type {\n",
       "        vertical-align: middle;\n",
       "    }\n",
       "\n",
       "    .dataframe tbody tr th {\n",
       "        vertical-align: top;\n",
       "    }\n",
       "\n",
       "    .dataframe thead th {\n",
       "        text-align: right;\n",
       "    }\n",
       "</style>\n",
       "<table border=\"1\" class=\"dataframe\">\n",
       "  <thead>\n",
       "    <tr style=\"text-align: right;\">\n",
       "      <th></th>\n",
       "      <th>lat</th>\n",
       "      <th>lon</th>\n",
       "      <th>wikidata</th>\n",
       "    </tr>\n",
       "  </thead>\n",
       "  <tbody>\n",
       "    <tr>\n",
       "      <th>0</th>\n",
       "      <td>47.052607</td>\n",
       "      <td>8.307654</td>\n",
       "      <td>Q62599999</td>\n",
       "    </tr>\n",
       "    <tr>\n",
       "      <th>1</th>\n",
       "      <td>47.051825</td>\n",
       "      <td>8.303022</td>\n",
       "      <td>Q29785697</td>\n",
       "    </tr>\n",
       "  </tbody>\n",
       "</table>\n",
       "</div>"
      ],
      "text/plain": [
       "         lat       lon   wikidata\n",
       "0  47.052607  8.307654  Q62599999\n",
       "1  47.051825  8.303022  Q29785697"
      ]
     },
     "execution_count": 5,
     "metadata": {},
     "output_type": "execute_result"
    }
   ],
   "source": [
    "df.head()"
   ]
  },
  {
   "cell_type": "code",
   "execution_count": 7,
   "metadata": {},
   "outputs": [
    {
     "data": {
      "text/plain": [
       "2"
      ]
     },
     "execution_count": 7,
     "metadata": {},
     "output_type": "execute_result"
    }
   ],
   "source": [
    "len(df)"
   ]
  },
  {
   "cell_type": "markdown",
   "metadata": {},
   "source": [
    "## Identify already existing fountains\n",
    "### Query fountains from Wikidata"
   ]
  },
  {
   "cell_type": "code",
   "execution_count": 6,
   "metadata": {},
   "outputs": [],
   "source": [
    "def coordsFunction(row):    \n",
    "    itemid = row['wikidata']    \n",
    "    query = (\"\"\"SELECT ?lat ?lon\n",
    "    WHERE\n",
    "    {{\n",
    "      wd:%s p:P625 ?statement.\n",
    "    ?statement psv:P625 ?node.\n",
    "    ?node wikibase:geoLatitude ?lat.\n",
    "    ?node wikibase:geoLongitude ?lon.\n",
    "  SERVICE wikibase:label { bd:serviceParam wikibase:language \"[AUTO_LANGUAGE],en\". }\n",
    "    }}\"\"\")%itemid    \n",
    "    print(itemid)\n",
    "    data = endpoint.select(query)\n",
    "    #print(itemid+\" \"+data['lat'])\n",
    "    wdDf = pd.DataFrame(data)\n",
    "    #wdDf\n",
    "    if  len(wdDf.values) == 0:\n",
    "        return 'noCoord'\n",
    "    return wdDf.values[0][0]\n"
   ]
  },
  {
   "cell_type": "code",
   "execution_count": 7,
   "metadata": {},
   "outputs": [
    {
     "name": "stdout",
     "output_type": "stream",
     "text": [
      "Q62599999\n",
      "Q29785697\n"
     ]
    }
   ],
   "source": [
    "# Perform query on each dw\n",
    "result = df.apply(coordsFunction,axis=1)"
   ]
  },
  {
   "cell_type": "code",
   "execution_count": 8,
   "metadata": {},
   "outputs": [
    {
     "data": {
      "text/plain": [
       "0    47.052607\n",
       "1    47.051816\n",
       "dtype: float64"
      ]
     },
     "execution_count": 8,
     "metadata": {},
     "output_type": "execute_result"
    }
   ],
   "source": [
    "result.head()"
   ]
  },
  {
   "cell_type": "code",
   "execution_count": 9,
   "metadata": {},
   "outputs": [],
   "source": [
    "query_result = pd.concat([df,result],ignore_index=True, axis=1)"
   ]
  },
  {
   "cell_type": "code",
   "execution_count": 10,
   "metadata": {
    "scrolled": true
   },
   "outputs": [
    {
     "name": "stdout",
     "output_type": "stream",
     "text": [
      "\n",
      "\n",
      "Total number of rows incl. duplicates 2 size 8\n"
     ]
    }
   ],
   "source": [
    "#print(query_string)\n",
    "print(\"\\n\\nTotal number of rows incl. duplicates \"+str(len(query_result))+\" size \"+str(query_result.size))"
   ]
  },
  {
   "cell_type": "code",
   "execution_count": 11,
   "metadata": {},
   "outputs": [
    {
     "data": {
      "text/html": [
       "<div>\n",
       "<style scoped>\n",
       "    .dataframe tbody tr th:only-of-type {\n",
       "        vertical-align: middle;\n",
       "    }\n",
       "\n",
       "    .dataframe tbody tr th {\n",
       "        vertical-align: top;\n",
       "    }\n",
       "\n",
       "    .dataframe thead th {\n",
       "        text-align: right;\n",
       "    }\n",
       "</style>\n",
       "<table border=\"1\" class=\"dataframe\">\n",
       "  <thead>\n",
       "    <tr style=\"text-align: right;\">\n",
       "      <th></th>\n",
       "      <th>0</th>\n",
       "      <th>1</th>\n",
       "      <th>2</th>\n",
       "      <th>3</th>\n",
       "    </tr>\n",
       "  </thead>\n",
       "  <tbody>\n",
       "    <tr>\n",
       "      <th>0</th>\n",
       "      <td>47.052607</td>\n",
       "      <td>8.307654</td>\n",
       "      <td>Q62599999</td>\n",
       "      <td>47.052607</td>\n",
       "    </tr>\n",
       "    <tr>\n",
       "      <th>1</th>\n",
       "      <td>47.051825</td>\n",
       "      <td>8.303022</td>\n",
       "      <td>Q29785697</td>\n",
       "      <td>47.051816</td>\n",
       "    </tr>\n",
       "  </tbody>\n",
       "</table>\n",
       "</div>"
      ],
      "text/plain": [
       "           0         1          2          3\n",
       "0  47.052607  8.307654  Q62599999  47.052607\n",
       "1  47.051825  8.303022  Q29785697  47.051816"
      ]
     },
     "execution_count": 11,
     "metadata": {},
     "output_type": "execute_result"
    }
   ],
   "source": [
    "query_result.head()"
   ]
  },
  {
   "cell_type": "markdown",
   "metadata": {},
   "source": [
    "## Create Quickstatement commands from data\n",
    "### Helper functions to format content according to Quickstatements v1 syntax"
   ]
  },
  {
   "cell_type": "code",
   "execution_count": 12,
   "metadata": {},
   "outputs": [],
   "source": [
    "def process_coordinates(x, y):\n",
    "    # format geographic coordinates\n",
    "    return '@{1:1.8f}/{0:1.8f}'.format(x,y)\n",
    "\n",
    "\n",
    "def createline(lines, item, prop, value, extra, qualifiers=[]):\n",
    "    # general function to create Quickstatement v1 commands\n",
    "    if value != '' and value != '\"\"':\n",
    "        statement = '{}\\t{}\\t{}'.format(item, prop, value)\n",
    "        if len(qualifiers):\n",
    "            # append qualifiers if applicable\n",
    "            for q in qualifiers:\n",
    "                statement += '\\t{}\\t{}'.format(q['prop'], q['value'])\n",
    "        statement += extra\n",
    "        statement += '\\n'\n",
    "        lines.append(statement)\n",
    "    return lines"
   ]
  },
  {
   "cell_type": "markdown",
   "metadata": {},
   "source": [
    "### Create statements, taking care not to overwrite existing data"
   ]
  },
  {
   "cell_type": "code",
   "execution_count": 13,
   "metadata": {},
   "outputs": [],
   "source": [
    "statedId = \"\\tS248\\tQ1224853\"\n",
    "# initialize command storage list\n",
    "lines = []\n",
    "i=0\n",
    "j=0\n",
    "for index, row in query_result.iterrows():\n",
    "    i+=1\n",
    "\n",
    "    if row[3] == 'noCoord':\n",
    "        j+=1\n",
    "        # coordinates\n",
    "        print(str(j)+\":\\torphan coordinates will be added for https://www.wikidata.org/wiki/\"+row[2]+\" in pos \"+str(i))\n",
    "        #TODO how to add ' target=\"_blank\" '\n",
    "        #TODO how to make only the Q-# visible, but the whole link anyway\n",
    "        lines = createline(lines, row[2], 'P625', process_coordinates(row[1], row[0]),statedId)\n",
    "    #else:\n",
    "    #    print(str(i)+\": \"+\" ignore \"+row[2])\n",
    "        "
   ]
  },
  {
   "cell_type": "markdown",
   "metadata": {},
   "source": [
    "# Write commands to file"
   ]
  },
  {
   "cell_type": "code",
   "execution_count": 14,
   "metadata": {
    "scrolled": true
   },
   "outputs": [
    {
     "name": "stdout",
     "output_type": "stream",
     "text": [
      "wrote 'quickstatement_commands_locOrphan_fountain_Luzern_191125_074711.txt' with 0 lines\n"
     ]
    }
   ],
   "source": [
    "quickStatFileName = \"quickstatement_commands_locOrphan_fountain_\"+nameOfRegion+\"_\"+dt.now().strftime(dtFmt)+\".txt\"\n",
    "with io.open(quickStatFileName, \"w\", encoding='utf8') as f:\n",
    "    f.writelines(lines)\n",
    "print(\"wrote '\"+quickStatFileName+\"' with \"+str(len(lines))+\" lines\")"
   ]
  },
  {
   "cell_type": "markdown",
   "metadata": {},
   "source": [
    "# Import into Wikidata\n",
    "- Go to https://tools.wmflabs.org/wikidata-todo/quick_statements.php.\n",
    "- Authenticate yourself with your Wikidata account.\n",
    "- Copy and paste the contents of quickstatement_commands*.txt into the blank field, and run the commands\n",
    "\n",
    "Caveats\n",
    "- do not interrupt this - it may take some time !  \n",
    "- if you restart it, you may produce duplicates - if you think you have to restart, first wait half an hour !"
   ]
  },
  {
   "cell_type": "markdown",
   "metadata": {},
   "source": [
    "see ../20191030_1600_import.png\n",
    "\n",
    "...\n",
    "58. Processing Q72935495 (Q72935495 Lde \"Brunnen (Seelöwe-Planschbecken )\")\n",
    "59. Processing Q72935495 (Q72935495 P137 Q27229237)\n",
    "\n",
    "All done!."
   ]
  },
  {
   "cell_type": "code",
   "execution_count": 15,
   "metadata": {},
   "outputs": [],
   "source": [
    "# it may well take half an hour until it works and becomes visible on https://query.wikidata.org/"
   ]
  },
  {
   "cell_type": "code",
   "execution_count": 61,
   "metadata": {},
   "outputs": [],
   "source": [
    "#TODO Take the opposite approach: instead of querying osm first, do sparql to get the fountain instances without coordinates"
   ]
  }
 ],
 "metadata": {
  "kernelspec": {
   "display_name": "Python 3",
   "language": "python",
   "name": "python3"
  },
  "language_info": {
   "codemirror_mode": {
    "name": "ipython",
    "version": 3
   },
   "file_extension": ".py",
   "mimetype": "text/x-python",
   "name": "python",
   "nbconvert_exporter": "python",
   "pygments_lexer": "ipython3",
   "version": "3.6.5"
  }
 },
 "nbformat": 4,
 "nbformat_minor": 2
}
