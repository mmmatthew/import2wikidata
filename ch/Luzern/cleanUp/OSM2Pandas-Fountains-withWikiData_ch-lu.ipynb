{
 "cells": [
  {
   "cell_type": "markdown",
   "metadata": {},
   "source": [
    "# Read Overpass-API to Python Pandas Dataframe - Luzern"
   ]
  },
  {
   "cell_type": "markdown",
   "metadata": {},
   "source": [
    "The [Overpass API](http://wiki.openstreetmap.org/wiki/Overpass_API) provides access to the data behind the Openstreetmaps Map Data.\n",
    "The [Overpass-Turbo](http://overpass-turbo.eu/) is the easyiest way to test requests and get the correct code to ask the database. Example: Fountains with wikidata Q-Numbers as per https://github.com/water-fountains/import2wikidata/issues/15"
   ]
  },
  {
   "cell_type": "code",
   "execution_count": 1,
   "metadata": {},
   "outputs": [],
   "source": [
    "#TODO eventually import most functions from ../../generics"
   ]
  },
  {
   "cell_type": "code",
   "execution_count": 2,
   "metadata": {},
   "outputs": [
    {
     "name": "stdout",
     "output_type": "stream",
     "text": [
      "191125_073832\n"
     ]
    }
   ],
   "source": [
    "from datetime import datetime as dt\n",
    "dtFmt = \"%y%m%d_%H%M%S\"\n",
    "print (dt.now().strftime(dtFmt))\n",
    "import pandas as pd\n",
    "import requests\n",
    "import json\n",
    "pd.set_option('display.max_columns', 200)"
   ]
  },
  {
   "cell_type": "code",
   "execution_count": 13,
   "metadata": {},
   "outputs": [],
   "source": [
    "# Get yours at: http://boundingbox.klokantech.com/\n",
    "nameOfRegion='Luzern'\n",
    "# Luzern ll 47.0091,8.2380 ur 47.0853,8.3584\n",
    "bbox = [8.2380,47.0091,8.3584,47.0853]\n",
    "\n",
    "# Links unten\n",
    "minLat = bbox[1]\n",
    "minLon = bbox[0]\n",
    "\n",
    "# Rechts oben\n",
    "maxLat = bbox[3]\n",
    "maxLon = bbox[2]"
   ]
  },
  {
   "cell_type": "markdown",
   "metadata": {},
   "source": [
    "### Construct the Overpass Query String"
   ]
  },
  {
   "cell_type": "markdown",
   "metadata": {},
   "source": [
    "Request from [Overpass-Turbo](http://overpass-turbo.eu/)"
   ]
  },
  {
   "cell_type": "code",
   "execution_count": 4,
   "metadata": {},
   "outputs": [],
   "source": [
    "def makeOsmQuery(minLat, minLon, maxLat, maxLon):\n",
    "    bbox_string = '(%s,%s,%s,%s)' % (minLat, minLon, maxLat, maxLon)\n",
    "    \n",
    "    compactOverpassQLstring = f'''\n",
    "    \n",
    "    [out:json][timeout:60];\n",
    "    \n",
    "    (\n",
    "        node[man_made=drinking_fountain][wikidata]{bbox_string};\n",
    "        node[amenity=drinking_water][wikidata]{bbox_string};\n",
    "        node[amenity=fountain][wikidata]{bbox_string};\n",
    "    );'''\n",
    "    \n",
    "    \n",
    "    #node[man_made=water_tap]{bbox_string};node[natural=spring]{bbox_string};node[amenity=watering_place]{bbox_string};\n",
    "    #node[amenity=water_point]{bbox_string};node[man_made=water_well]{bbox_string};\n",
    "    compactOverpassQLstring += 'out ;'\n",
    "    return compactOverpassQLstring"
   ]
  },
  {
   "cell_type": "code",
   "execution_count": 5,
   "metadata": {},
   "outputs": [
    {
     "data": {
      "text/plain": [
       "'\\n    \\n    [out:json][timeout:60];\\n    \\n    (\\n        node[man_made=drinking_fountain][wikidata](47.0091,8.238,47.0853,8.3584);\\n        node[amenity=drinking_water][wikidata](47.0091,8.238,47.0853,8.3584);\\n        node[amenity=fountain][wikidata](47.0091,8.238,47.0853,8.3584);\\n    );out ;'"
      ]
     },
     "execution_count": 5,
     "metadata": {},
     "output_type": "execute_result"
    }
   ],
   "source": [
    "compactOverpassQLstring = makeOsmQuery(minLat, minLon, maxLat, maxLon)\n",
    "compactOverpassQLstring"
   ]
  },
  {
   "cell_type": "code",
   "execution_count": 6,
   "metadata": {},
   "outputs": [],
   "source": [
    "osmrequest = {'data': compactOverpassQLstring}\n",
    "osmurl = 'https://overpass-api.de/api/interpreter'\n",
    "\n",
    "# Ask the API\n",
    "osm = requests.get(osmurl, params=osmrequest)"
   ]
  },
  {
   "cell_type": "markdown",
   "metadata": {},
   "source": [
    "### Reformat the JSON to fit in a Pandas Dataframe"
   ]
  },
  {
   "cell_type": "markdown",
   "metadata": {},
   "source": [
    "The JSON can't be directyl imported to a Pandas Dataframe:\n",
    "\n",
    "Thanks to [unutbu from stackoverflow.com](http://stackoverflow.com/questions/24848416/expected-string-or-unicode-when-reading-json-with-pandas) for fiddling this out!"
   ]
  },
  {
   "cell_type": "code",
   "execution_count": 7,
   "metadata": {},
   "outputs": [
    {
     "data": {
      "text/plain": [
       "{'version': 0.6,\n",
       " 'generator': 'Overpass API 0.7.55.1009 5e627b63',\n",
       " 'osm3s': {'timestamp_osm_base': '2019-11-25T07:37:02Z',\n",
       "  'copyright': 'The data included in this document is from www.openstreetmap.org. The data is made available under ODbL.'},\n",
       " 'elements': [{'type': 'node',\n",
       "   'id': 1158988930,\n",
       "   'lat': 47.0526073,\n",
       "   'lon': 8.3076544,\n",
       "   'tags': {'amenity': 'fountain',\n",
       "    'name': 'Fritschibrunnen',\n",
       "    'name:ru': 'Фонтан Фритши',\n",
       "    'wikidata': 'Q62599999'}},\n",
       "  {'type': 'node',\n",
       "   'id': 1495294235,\n",
       "   'lat': 47.0518254,\n",
       "   'lon': 8.3030219,\n",
       "   'tags': {'amenity': 'fountain', 'wikidata': 'Q29785697'}}]}"
      ]
     },
     "execution_count": 7,
     "metadata": {},
     "output_type": "execute_result"
    }
   ],
   "source": [
    "osmdata = osm.json()\n",
    "# print out the json\n",
    "osmdata"
   ]
  },
  {
   "cell_type": "code",
   "execution_count": 8,
   "metadata": {},
   "outputs": [],
   "source": [
    "osmelements = osmdata['elements']\n",
    "for dct in osmelements:\n",
    "    for key, val in dct['tags'].items():\n",
    "        dct[key] = val\n",
    "    del dct['tags']"
   ]
  },
  {
   "cell_type": "markdown",
   "metadata": {},
   "source": [
    "### Now put everything to the Pandas Dataframe"
   ]
  },
  {
   "cell_type": "code",
   "execution_count": 9,
   "metadata": {},
   "outputs": [],
   "source": [
    "osmdf = pd.DataFrame(osmelements)"
   ]
  },
  {
   "cell_type": "markdown",
   "metadata": {},
   "source": [
    "### Look at the whole Dataframe"
   ]
  },
  {
   "cell_type": "code",
   "execution_count": 10,
   "metadata": {},
   "outputs": [
    {
     "data": {
      "text/html": [
       "<div>\n",
       "<style scoped>\n",
       "    .dataframe tbody tr th:only-of-type {\n",
       "        vertical-align: middle;\n",
       "    }\n",
       "\n",
       "    .dataframe tbody tr th {\n",
       "        vertical-align: top;\n",
       "    }\n",
       "\n",
       "    .dataframe thead th {\n",
       "        text-align: right;\n",
       "    }\n",
       "</style>\n",
       "<table border=\"1\" class=\"dataframe\">\n",
       "  <thead>\n",
       "    <tr style=\"text-align: right;\">\n",
       "      <th></th>\n",
       "      <th>type</th>\n",
       "      <th>id</th>\n",
       "      <th>lat</th>\n",
       "      <th>lon</th>\n",
       "      <th>amenity</th>\n",
       "      <th>name</th>\n",
       "      <th>name:ru</th>\n",
       "      <th>wikidata</th>\n",
       "    </tr>\n",
       "  </thead>\n",
       "  <tbody>\n",
       "    <tr>\n",
       "      <th>0</th>\n",
       "      <td>node</td>\n",
       "      <td>1158988930</td>\n",
       "      <td>47.052607</td>\n",
       "      <td>8.307654</td>\n",
       "      <td>fountain</td>\n",
       "      <td>Fritschibrunnen</td>\n",
       "      <td>Фонтан Фритши</td>\n",
       "      <td>Q62599999</td>\n",
       "    </tr>\n",
       "    <tr>\n",
       "      <th>1</th>\n",
       "      <td>node</td>\n",
       "      <td>1495294235</td>\n",
       "      <td>47.051825</td>\n",
       "      <td>8.303022</td>\n",
       "      <td>fountain</td>\n",
       "      <td>NaN</td>\n",
       "      <td>NaN</td>\n",
       "      <td>Q29785697</td>\n",
       "    </tr>\n",
       "  </tbody>\n",
       "</table>\n",
       "</div>"
      ],
      "text/plain": [
       "   type          id        lat       lon   amenity             name  \\\n",
       "0  node  1158988930  47.052607  8.307654  fountain  Fritschibrunnen   \n",
       "1  node  1495294235  47.051825  8.303022  fountain              NaN   \n",
       "\n",
       "         name:ru   wikidata  \n",
       "0  Фонтан Фритши  Q62599999  \n",
       "1            NaN  Q29785697  "
      ]
     },
     "execution_count": 10,
     "metadata": {},
     "output_type": "execute_result"
    }
   ],
   "source": [
    "osmdf.head(5)"
   ]
  },
  {
   "cell_type": "code",
   "execution_count": 11,
   "metadata": {},
   "outputs": [],
   "source": [
    "osmdfShrt =  osmdf[['lat','lon','wikidata']]"
   ]
  },
  {
   "cell_type": "code",
   "execution_count": 12,
   "metadata": {},
   "outputs": [
    {
     "data": {
      "text/html": [
       "<div>\n",
       "<style scoped>\n",
       "    .dataframe tbody tr th:only-of-type {\n",
       "        vertical-align: middle;\n",
       "    }\n",
       "\n",
       "    .dataframe tbody tr th {\n",
       "        vertical-align: top;\n",
       "    }\n",
       "\n",
       "    .dataframe thead th {\n",
       "        text-align: right;\n",
       "    }\n",
       "</style>\n",
       "<table border=\"1\" class=\"dataframe\">\n",
       "  <thead>\n",
       "    <tr style=\"text-align: right;\">\n",
       "      <th></th>\n",
       "      <th>lat</th>\n",
       "      <th>lon</th>\n",
       "      <th>wikidata</th>\n",
       "    </tr>\n",
       "  </thead>\n",
       "  <tbody>\n",
       "    <tr>\n",
       "      <th>0</th>\n",
       "      <td>47.052607</td>\n",
       "      <td>8.307654</td>\n",
       "      <td>Q62599999</td>\n",
       "    </tr>\n",
       "    <tr>\n",
       "      <th>1</th>\n",
       "      <td>47.051825</td>\n",
       "      <td>8.303022</td>\n",
       "      <td>Q29785697</td>\n",
       "    </tr>\n",
       "  </tbody>\n",
       "</table>\n",
       "</div>"
      ],
      "text/plain": [
       "         lat       lon   wikidata\n",
       "0  47.052607  8.307654  Q62599999\n",
       "1  47.051825  8.303022  Q29785697"
      ]
     },
     "execution_count": 12,
     "metadata": {},
     "output_type": "execute_result"
    }
   ],
   "source": [
    "osmdfShrt.tail(5)"
   ]
  },
  {
   "cell_type": "markdown",
   "metadata": {},
   "source": [
    "## Export to CSV"
   ]
  },
  {
   "cell_type": "code",
   "execution_count": 14,
   "metadata": {},
   "outputs": [],
   "source": [
    "osmCsvFileName = \"osmFountainsWithWikidataReference_\"+nameOfRegion+\"_\"+dt.now().strftime(dtFmt)+\".csv\"\n",
    "osmdfShrt.to_csv(osmCsvFileName, index=False)\n",
    "\n"
   ]
  },
  {
   "cell_type": "code",
   "execution_count": 15,
   "metadata": {},
   "outputs": [
    {
     "name": "stdout",
     "output_type": "stream",
     "text": [
      "wrote 'osmFountainsWithWikidataReference_Luzern_191125_074112.csv' with 2 lines\n"
     ]
    }
   ],
   "source": [
    "print(\"wrote '\"+osmCsvFileName+\"' with \"+str(len(osmdf))+\" lines\")"
   ]
  }
 ],
 "metadata": {
  "kernelspec": {
   "display_name": "Python 3",
   "language": "python",
   "name": "python3"
  },
  "language_info": {
   "codemirror_mode": {
    "name": "ipython",
    "version": 3
   },
   "file_extension": ".py",
   "mimetype": "text/x-python",
   "name": "python",
   "nbconvert_exporter": "python",
   "pygments_lexer": "ipython3",
   "version": "3.6.5"
  }
 },
 "nbformat": 4,
 "nbformat_minor": 1
}
