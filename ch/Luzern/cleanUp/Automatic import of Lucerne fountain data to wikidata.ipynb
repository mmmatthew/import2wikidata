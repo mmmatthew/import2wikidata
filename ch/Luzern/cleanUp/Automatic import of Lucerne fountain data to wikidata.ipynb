{
 "cells": [
  {
   "cell_type": "markdown",
   "metadata": {},
   "source": [
    "### Initialize env"
   ]
  },
  {
   "cell_type": "code",
   "execution_count": 1,
   "metadata": {},
   "outputs": [
    {
     "name": "stdout",
     "output_type": "stream",
     "text": [
      "200106_090124\n"
     ]
    }
   ],
   "source": [
    "from datetime import datetime as dt\n",
    "dtFmt = \"%y%m%d_%H%M%S\"\n",
    "print (dt.now().strftime(dtFmt))\n",
    "import pandas as pd\n",
    "import io\n",
    "import numpy as np\n",
    "from urllib.request import urlopen\n",
    "import json\n",
    "import codecs\n",
    "from math import *\n",
    "from gastrodon import RemoteEndpoint,QName,ttl,URIRef,inline\n",
    "from matplotlib import pyplot"
   ]
  },
  {
   "cell_type": "code",
   "execution_count": 2,
   "metadata": {},
   "outputs": [],
   "source": [
    "#@prefix wikibase: <wikibase: <http://wikiba.se/ontology#> .\n",
    "prefixes=inline(\"\"\"\n",
    "   @prefix wd: <http://www.wikidata.org/entity/> .\n",
    "   @prefix wdt: <http://www.wikidata.org/prop/direct/> .\n",
    "   @prefix rdf: <http://www.w3.org/1999/02/22-rdf-syntax-ns#> .\n",
    "   @prefix rdfs: <http://www.w3.org/2000/01/rdf-schema#> .\n",
    "\"\"\").graph\n",
    "endpoint=RemoteEndpoint(\n",
    "   \"http://query.wikidata.org/sparql\"\n",
    "   ,prefixes=prefixes\n",
    ")"
   ]
  },
  {
   "cell_type": "markdown",
   "metadata": {},
   "source": [
    "### Load data"
   ]
  },
  {
   "cell_type": "code",
   "execution_count": 3,
   "metadata": {},
   "outputs": [],
   "source": [
    "with codecs.open('201911lucerneWaterFountains.enabled.json', 'r', encoding='utf8') as f:\n",
    "    df = pd.read_json(f)\n",
    "    df = df.transpose()\n",
    "df_filtered = df.filter(items=['Name', 'GeoLocation', 'Typ', 'Quality'])"
   ]
  },
  {
   "cell_type": "markdown",
   "metadata": {},
   "source": [
    "### Rename columns"
   ]
  },
  {
   "cell_type": "code",
   "execution_count": 5,
   "metadata": {},
   "outputs": [],
   "source": [
    "latitudes = []\n",
    "longitudes = []\n",
    "for geolocation in df_filtered['GeoLocation']:\n",
    "    latitudes.append(float(geolocation['latitude']))\n",
    "    longitudes.append(float(geolocation['longitude']))"
   ]
  },
  {
   "cell_type": "code",
   "execution_count": 11,
   "metadata": {},
   "outputs": [],
   "source": [
    "df_filtered['Y'] = latitudes\n",
    "df_filtered['X'] = longitudes\n",
    "df = df_filtered.filter(items=['Name', 'Y', 'X', 'Typ', 'Quality'])\n",
    "df = df.rename(index=str, columns={\"Name\": \"label_de\"})"
   ]
  },
  {
   "cell_type": "code",
   "execution_count": 12,
   "metadata": {},
   "outputs": [
    {
     "data": {
      "text/html": [
       "<div>\n",
       "<style scoped>\n",
       "    .dataframe tbody tr th:only-of-type {\n",
       "        vertical-align: middle;\n",
       "    }\n",
       "\n",
       "    .dataframe tbody tr th {\n",
       "        vertical-align: top;\n",
       "    }\n",
       "\n",
       "    .dataframe thead th {\n",
       "        text-align: right;\n",
       "    }\n",
       "</style>\n",
       "<table border=\"1\" class=\"dataframe\">\n",
       "  <thead>\n",
       "    <tr style=\"text-align: right;\">\n",
       "      <th></th>\n",
       "      <th>label_de</th>\n",
       "      <th>Y</th>\n",
       "      <th>X</th>\n",
       "      <th>Typ</th>\n",
       "      <th>Quality</th>\n",
       "    </tr>\n",
       "  </thead>\n",
       "  <tbody>\n",
       "    <tr>\n",
       "      <th>45</th>\n",
       "      <td>Kornmarktbrunnen</td>\n",
       "      <td>47.052190</td>\n",
       "      <td>8.306028</td>\n",
       "      <td>FOUNTAIN_TYPE_DRINKING</td>\n",
       "      <td>WATER_QUALITY_GOOD</td>\n",
       "    </tr>\n",
       "    <tr>\n",
       "      <th>34</th>\n",
       "      <td>Josefbrunnen</td>\n",
       "      <td>47.042078</td>\n",
       "      <td>8.299762</td>\n",
       "      <td>type_springbrunnen</td>\n",
       "      <td>WATER_QUALITY_BAD</td>\n",
       "    </tr>\n",
       "    <tr>\n",
       "      <th>169</th>\n",
       "      <td>Friedhofshallenbrunnen</td>\n",
       "      <td>47.060417</td>\n",
       "      <td>8.295880</td>\n",
       "      <td>type_sprudelbrunnen</td>\n",
       "      <td>WATER_QUALITY_GOOD</td>\n",
       "    </tr>\n",
       "    <tr>\n",
       "      <th>120</th>\n",
       "      <td>Wandbrunnen Moosmattstrasse</td>\n",
       "      <td>47.039483</td>\n",
       "      <td>8.304261</td>\n",
       "      <td>FOUNTAIN_TYPE_DRINKING</td>\n",
       "      <td>WATER_QUALITY_GOOD</td>\n",
       "    </tr>\n",
       "    <tr>\n",
       "      <th>193</th>\n",
       "      <td>Relibrunnen</td>\n",
       "      <td>47.035410</td>\n",
       "      <td>8.324500</td>\n",
       "      <td>type_zierbrunnen</td>\n",
       "      <td>WATER_QUALITY_BAD</td>\n",
       "    </tr>\n",
       "    <tr>\n",
       "      <th>...</th>\n",
       "      <td>...</td>\n",
       "      <td>...</td>\n",
       "      <td>...</td>\n",
       "      <td>...</td>\n",
       "      <td>...</td>\n",
       "    </tr>\n",
       "    <tr>\n",
       "      <th>229</th>\n",
       "      <td>Salzfassbrunnen</td>\n",
       "      <td>47.045223</td>\n",
       "      <td>8.347224</td>\n",
       "      <td>type_zierbrunnen</td>\n",
       "      <td>WATER_QUALITY_BAD</td>\n",
       "    </tr>\n",
       "    <tr>\n",
       "      <th>200</th>\n",
       "      <td>Krematoriumsbrunnen Süd II</td>\n",
       "      <td>47.061504</td>\n",
       "      <td>8.289488</td>\n",
       "      <td>FOUNTAIN_TYPE_DRINKING</td>\n",
       "      <td>WATER_QUALITY_GOOD</td>\n",
       "    </tr>\n",
       "    <tr>\n",
       "      <th>28</th>\n",
       "      <td>Pavarottibrunnen</td>\n",
       "      <td>47.051033</td>\n",
       "      <td>8.302585</td>\n",
       "      <td>type_zierbrunnen</td>\n",
       "      <td>WATER_QUALITY_BAD</td>\n",
       "    </tr>\n",
       "    <tr>\n",
       "      <th>136</th>\n",
       "      <td>Försterbrunnen Gütsch</td>\n",
       "      <td>47.049765</td>\n",
       "      <td>8.290351</td>\n",
       "      <td>FOUNTAIN_TYPE_DRINKING</td>\n",
       "      <td>WATER_QUALITY_GOOD</td>\n",
       "    </tr>\n",
       "    <tr>\n",
       "      <th>146</th>\n",
       "      <td>Heidibrunnen</td>\n",
       "      <td>47.036915</td>\n",
       "      <td>8.314452</td>\n",
       "      <td>FOUNTAIN_TYPE_DRINKING</td>\n",
       "      <td>WATER_QUALITY_GOOD</td>\n",
       "    </tr>\n",
       "  </tbody>\n",
       "</table>\n",
       "<p>149 rows × 5 columns</p>\n",
       "</div>"
      ],
      "text/plain": [
       "                        label_de          Y         X                     Typ  \\\n",
       "45              Kornmarktbrunnen  47.052190  8.306028  FOUNTAIN_TYPE_DRINKING   \n",
       "34                  Josefbrunnen  47.042078  8.299762      type_springbrunnen   \n",
       "169       Friedhofshallenbrunnen  47.060417  8.295880     type_sprudelbrunnen   \n",
       "120  Wandbrunnen Moosmattstrasse  47.039483  8.304261  FOUNTAIN_TYPE_DRINKING   \n",
       "193                  Relibrunnen  47.035410  8.324500        type_zierbrunnen   \n",
       "..                           ...        ...       ...                     ...   \n",
       "229              Salzfassbrunnen  47.045223  8.347224        type_zierbrunnen   \n",
       "200   Krematoriumsbrunnen Süd II  47.061504  8.289488  FOUNTAIN_TYPE_DRINKING   \n",
       "28              Pavarottibrunnen  47.051033  8.302585        type_zierbrunnen   \n",
       "136        Försterbrunnen Gütsch  47.049765  8.290351  FOUNTAIN_TYPE_DRINKING   \n",
       "146                 Heidibrunnen  47.036915  8.314452  FOUNTAIN_TYPE_DRINKING   \n",
       "\n",
       "                Quality  \n",
       "45   WATER_QUALITY_GOOD  \n",
       "34    WATER_QUALITY_BAD  \n",
       "169  WATER_QUALITY_GOOD  \n",
       "120  WATER_QUALITY_GOOD  \n",
       "193   WATER_QUALITY_BAD  \n",
       "..                  ...  \n",
       "229   WATER_QUALITY_BAD  \n",
       "200  WATER_QUALITY_GOOD  \n",
       "28    WATER_QUALITY_BAD  \n",
       "136  WATER_QUALITY_GOOD  \n",
       "146  WATER_QUALITY_GOOD  \n",
       "\n",
       "[149 rows x 5 columns]"
      ]
     },
     "execution_count": 12,
     "metadata": {},
     "output_type": "execute_result"
    }
   ],
   "source": [
    "df"
   ]
  },
  {
   "cell_type": "code",
   "execution_count": 13,
   "metadata": {},
   "outputs": [
    {
     "data": {
      "text/plain": [
       "array(['WATER_QUALITY_GOOD', 'WATER_QUALITY_BAD'], dtype=object)"
      ]
     },
     "execution_count": 13,
     "metadata": {},
     "output_type": "execute_result"
    }
   ],
   "source": [
    "df.Typ.unique()\n",
    "df.Quality.unique()"
   ]
  },
  {
   "cell_type": "markdown",
   "metadata": {},
   "source": [
    "## Identify already existing fountains"
   ]
  },
  {
   "cell_type": "markdown",
   "metadata": {},
   "source": [
    "### Query fountains from Wikidata"
   ]
  },
  {
   "cell_type": "code",
   "execution_count": 221,
   "metadata": {},
   "outputs": [],
   "source": [
    "buffer = 0.0003  # in degrees, corresponds to about 20-30 meters)\n",
    "bounds = {\n",
    "    'minX': float(df['X'].min()) - buffer,\n",
    "    'minY': float(df['Y'].min()) - buffer,\n",
    "    'maxX': float(df['X'].max()) + buffer,\n",
    "    'maxY': float(df['Y'].max()) + buffer\n",
    "}"
   ]
  },
  {
   "cell_type": "code",
   "execution_count": 222,
   "metadata": {},
   "outputs": [],
   "source": [
    "# Query fountains (both water wells and fountains) from Wikidata within bounding box found above\n",
    "\n",
    "query_string = \"\"\" SELECT ?place ?placeLabel ?location ?date ?catalog_code ?catalogLabel ?operator ?water_supply_type\n",
    "WHERE\n",
    "{{\n",
    "  # Enter coordinates\n",
    "  SERVICE wikibase:box {{\n",
    "    ?place wdt:P625 ?location .\n",
    "    bd:serviceParam wikibase:cornerWest \"Point(8.20651 46.998006)\"^^geo:wktLiteral.\n",
    "    bd:serviceParam wikibase:cornerEast \"Point(8.3914 47.083523)\"^^geo:wktLiteral.\n",
    "  }} .\n",
    "  # Is a water well or fountain or subclass of fountain\n",
    "  FILTER (EXISTS {{ ?place wdt:P31/wdt:P279* wd:Q43483 }} || EXISTS {{ ?place wdt:P31/wdt:P279* wd:Q483453 }}).\n",
    "  SERVICE wikibase:label {{\n",
    "    bd:serviceParam wikibase:language \"[AUTO_LANGUAGE],de\" .\n",
    "  }} \n",
    "  OPTIONAL {{ ?place p:P528 ?catalog_code.\n",
    "            ?catalog_code pq:P972 ?catalog.}}\n",
    "  OPTIONAL {{ ?place wdt:P571 ?date.}}\n",
    "  OPTIONAL {{ ?place wdt:P5623 ?water_supply_type}}\n",
    "  OPTIONAL {{ ?place wdt:P137 ?operator.}}\n",
    "}}\n",
    "  \"\"\".format(**bounds)\n",
    "\n",
    "# Perform query\n",
    "query_result = endpoint.select(query_string)"
   ]
  },
  {
   "cell_type": "code",
   "execution_count": 223,
   "metadata": {},
   "outputs": [
    {
     "name": "stdout",
     "output_type": "stream",
     "text": [
      " SELECT ?place ?placeLabel ?location ?date ?catalog_code ?catalogLabel ?operator ?water_supply_type\n",
      "WHERE\n",
      "{\n",
      "  # Enter coordinates\n",
      "  SERVICE wikibase:box {\n",
      "    ?place wdt:P625 ?location .\n",
      "    bd:serviceParam wikibase:cornerWest \"Point(8.20651 46.998006)\"^^geo:wktLiteral.\n",
      "    bd:serviceParam wikibase:cornerEast \"Point(8.3914 47.083523)\"^^geo:wktLiteral.\n",
      "  } .\n",
      "  # Is a water well or fountain or subclass of fountain\n",
      "  FILTER (EXISTS { ?place wdt:P31/wdt:P279* wd:Q43483 } || EXISTS { ?place wdt:P31/wdt:P279* wd:Q483453 }).\n",
      "  SERVICE wikibase:label {\n",
      "    bd:serviceParam wikibase:language \"[AUTO_LANGUAGE],de\" .\n",
      "  } \n",
      "  OPTIONAL { ?place p:P528 ?catalog_code.\n",
      "            ?catalog_code pq:P972 ?catalog.}\n",
      "  OPTIONAL { ?place wdt:P571 ?date.}\n",
      "  OPTIONAL { ?place wdt:P5623 ?water_supply_type}\n",
      "  OPTIONAL { ?place wdt:P137 ?operator.}\n",
      "}\n",
      "  \n"
     ]
    }
   ],
   "source": [
    "print(query_string)"
   ]
  },
  {
   "cell_type": "markdown",
   "metadata": {},
   "source": [
    "###  Tidy up data"
   ]
  },
  {
   "cell_type": "code",
   "execution_count": 224,
   "metadata": {},
   "outputs": [],
   "source": [
    "# Extract coordinates from Wikidata results\n",
    "\n",
    "query_result['X'] = query_result['location'].apply(lambda l:float(l.split('(')[1].split(' ')[0]))\n",
    "query_result['Y'] = query_result['location'].apply(lambda l:float(l.split(' ')[1].split(')')[0]))"
   ]
  },
  {
   "cell_type": "code",
   "execution_count": 225,
   "metadata": {},
   "outputs": [],
   "source": [
    "# remove duplicate entries\n",
    "\n",
    "# duplicate entries are caused when e.g. a fountain has catalog codes from two catalogs\n",
    "query_result = query_result.drop_duplicates('place')\n"
   ]
  },
  {
   "cell_type": "markdown",
   "metadata": {},
   "source": [
    "### Compute distances between fountains"
   ]
  },
  {
   "cell_type": "code",
   "execution_count": 226,
   "metadata": {},
   "outputs": [
    {
     "name": "stdout",
     "output_type": "stream",
     "text": [
      "[[2037.8597713  2074.53452947 1858.04373256 ... 2266.55670483\n",
      "  7690.10475858 7011.66933872]\n",
      " [2037.8597713  2074.53452947 1858.04373256 ... 2266.55670483\n",
      "  7690.10475858 7011.66933872]\n",
      " [2037.8597713  2074.53452947 1858.04373256 ... 2266.55670483\n",
      "  7690.10475858 7011.66933872]\n",
      " ...\n",
      " [2037.8597713  2074.53452947 1858.04373256 ... 2266.55670483\n",
      "  7690.10475858 7011.66933872]\n",
      " [2037.8597713  2074.53452947 1858.04373256 ... 2266.55670483\n",
      "  7690.10475858 7011.66933872]\n",
      " [2037.8597713  2074.53452947 1858.04373256 ... 2266.55670483\n",
      "  7690.10475858 7011.66933872]]\n"
     ]
    }
   ],
   "source": [
    "# helper function to compute distances on the globe, returns distances in meters\n",
    "def spherical_dist(pos1, pos2, r=6371000):\n",
    "    pos1 = pos1 * np.pi / 180\n",
    "    pos2 = pos2 * np.pi / 180\n",
    "    cos_lat1 = np.cos(pos1[..., 0])\n",
    "    cos_lat2 = np.cos(pos2[..., 0])\n",
    "    cos_lat_d = np.cos(pos1[..., 0] - pos2[..., 0])\n",
    "    cos_lon_d = np.cos(pos1[..., 1] - pos2[..., 1])\n",
    "    return r * np.arccos(cos_lat_d - cos_lat1 * cos_lat2 * (1 - cos_lon_d))\n",
    "\n",
    "\n",
    "# compute distances from each ODZ fountain to each Wikidata fountain\n",
    "distances = spherical_dist(df[['X','Y']].values[:, None], query_result[['X','Y']].values)\n",
    "print(distances)"
   ]
  },
  {
   "cell_type": "markdown",
   "metadata": {},
   "source": [
    "### Identify nearest and second nearest matches for each fountain"
   ]
  },
  {
   "cell_type": "code",
   "execution_count": 227,
   "metadata": {},
   "outputs": [
    {
     "data": {
      "text/html": [
       "<div>\n",
       "<style scoped>\n",
       "    .dataframe tbody tr th:only-of-type {\n",
       "        vertical-align: middle;\n",
       "    }\n",
       "\n",
       "    .dataframe tbody tr th {\n",
       "        vertical-align: top;\n",
       "    }\n",
       "\n",
       "    .dataframe thead th {\n",
       "        text-align: right;\n",
       "    }\n",
       "</style>\n",
       "<table border=\"1\" class=\"dataframe\">\n",
       "  <thead>\n",
       "    <tr style=\"text-align: right;\">\n",
       "      <th></th>\n",
       "      <th>label_de</th>\n",
       "      <th>Y</th>\n",
       "      <th>X</th>\n",
       "      <th>Typ</th>\n",
       "      <th>Quality</th>\n",
       "      <th>nearest_qid</th>\n",
       "      <th>nearest_distance</th>\n",
       "      <th>2nd_nearest_distance</th>\n",
       "    </tr>\n",
       "  </thead>\n",
       "  <tbody>\n",
       "    <tr>\n",
       "      <th>45</th>\n",
       "      <td>Kornmarktbrunnen</td>\n",
       "      <td>47.036915</td>\n",
       "      <td>8.314452</td>\n",
       "      <td>FOUNTAIN_TYPE_DRINKING</td>\n",
       "      <td>WATER_QUALITY_GOOD</td>\n",
       "      <td>Q29785731</td>\n",
       "      <td>1551.844862</td>\n",
       "      <td>1858.043733</td>\n",
       "    </tr>\n",
       "    <tr>\n",
       "      <th>34</th>\n",
       "      <td>Josefbrunnen</td>\n",
       "      <td>47.036915</td>\n",
       "      <td>8.314452</td>\n",
       "      <td>type_springbrunnen</td>\n",
       "      <td>WATER_QUALITY_BAD</td>\n",
       "      <td>Q29785731</td>\n",
       "      <td>1551.844862</td>\n",
       "      <td>1858.043733</td>\n",
       "    </tr>\n",
       "    <tr>\n",
       "      <th>169</th>\n",
       "      <td>Friedhofshallenbrunnen</td>\n",
       "      <td>47.036915</td>\n",
       "      <td>8.314452</td>\n",
       "      <td>type_sprudelbrunnen</td>\n",
       "      <td>WATER_QUALITY_GOOD</td>\n",
       "      <td>Q29785731</td>\n",
       "      <td>1551.844862</td>\n",
       "      <td>1858.043733</td>\n",
       "    </tr>\n",
       "    <tr>\n",
       "      <th>120</th>\n",
       "      <td>Wandbrunnen Moosmattstrasse</td>\n",
       "      <td>47.036915</td>\n",
       "      <td>8.314452</td>\n",
       "      <td>FOUNTAIN_TYPE_DRINKING</td>\n",
       "      <td>WATER_QUALITY_GOOD</td>\n",
       "      <td>Q29785731</td>\n",
       "      <td>1551.844862</td>\n",
       "      <td>1858.043733</td>\n",
       "    </tr>\n",
       "    <tr>\n",
       "      <th>193</th>\n",
       "      <td>Relibrunnen</td>\n",
       "      <td>47.036915</td>\n",
       "      <td>8.314452</td>\n",
       "      <td>type_zierbrunnen</td>\n",
       "      <td>WATER_QUALITY_BAD</td>\n",
       "      <td>Q29785731</td>\n",
       "      <td>1551.844862</td>\n",
       "      <td>1858.043733</td>\n",
       "    </tr>\n",
       "    <tr>\n",
       "      <th>...</th>\n",
       "      <td>...</td>\n",
       "      <td>...</td>\n",
       "      <td>...</td>\n",
       "      <td>...</td>\n",
       "      <td>...</td>\n",
       "      <td>...</td>\n",
       "      <td>...</td>\n",
       "      <td>...</td>\n",
       "    </tr>\n",
       "    <tr>\n",
       "      <th>122</th>\n",
       "      <td>Schöttibrunnen</td>\n",
       "      <td>47.036915</td>\n",
       "      <td>8.314452</td>\n",
       "      <td>FOUNTAIN_TYPE_DRINKING</td>\n",
       "      <td>WATER_QUALITY_GOOD</td>\n",
       "      <td>Q29785731</td>\n",
       "      <td>1551.844862</td>\n",
       "      <td>1858.043733</td>\n",
       "    </tr>\n",
       "    <tr>\n",
       "      <th>230</th>\n",
       "      <td>Spielbrunnen Mattstrasse 13</td>\n",
       "      <td>47.036915</td>\n",
       "      <td>8.314452</td>\n",
       "      <td>FOUNTAIN_TYPE_DRINKING</td>\n",
       "      <td>WATER_QUALITY_GOOD</td>\n",
       "      <td>Q29785731</td>\n",
       "      <td>1551.844862</td>\n",
       "      <td>1858.043733</td>\n",
       "    </tr>\n",
       "    <tr>\n",
       "      <th>111</th>\n",
       "      <td>Sälihaldebrunnen</td>\n",
       "      <td>47.036915</td>\n",
       "      <td>8.314452</td>\n",
       "      <td>type_spielbrunnen</td>\n",
       "      <td>WATER_QUALITY_GOOD</td>\n",
       "      <td>Q29785731</td>\n",
       "      <td>1551.844862</td>\n",
       "      <td>1858.043733</td>\n",
       "    </tr>\n",
       "    <tr>\n",
       "      <th>31</th>\n",
       "      <td>Baigneuse-Brunnen</td>\n",
       "      <td>47.036915</td>\n",
       "      <td>8.314452</td>\n",
       "      <td>FOUNTAIN_TYPE_DRINKING</td>\n",
       "      <td>WATER_QUALITY_GOOD</td>\n",
       "      <td>Q29785731</td>\n",
       "      <td>1551.844862</td>\n",
       "      <td>1858.043733</td>\n",
       "    </tr>\n",
       "    <tr>\n",
       "      <th>162</th>\n",
       "      <td>Gräberhallenbrunnen Ost</td>\n",
       "      <td>47.036915</td>\n",
       "      <td>8.314452</td>\n",
       "      <td>type_zierbrunnen</td>\n",
       "      <td>WATER_QUALITY_GOOD</td>\n",
       "      <td>Q29785731</td>\n",
       "      <td>1551.844862</td>\n",
       "      <td>1858.043733</td>\n",
       "    </tr>\n",
       "  </tbody>\n",
       "</table>\n",
       "<p>100 rows × 8 columns</p>\n",
       "</div>"
      ],
      "text/plain": [
       "                        label_de          Y         X                     Typ  \\\n",
       "45              Kornmarktbrunnen  47.036915  8.314452  FOUNTAIN_TYPE_DRINKING   \n",
       "34                  Josefbrunnen  47.036915  8.314452      type_springbrunnen   \n",
       "169       Friedhofshallenbrunnen  47.036915  8.314452     type_sprudelbrunnen   \n",
       "120  Wandbrunnen Moosmattstrasse  47.036915  8.314452  FOUNTAIN_TYPE_DRINKING   \n",
       "193                  Relibrunnen  47.036915  8.314452        type_zierbrunnen   \n",
       "..                           ...        ...       ...                     ...   \n",
       "122               Schöttibrunnen  47.036915  8.314452  FOUNTAIN_TYPE_DRINKING   \n",
       "230  Spielbrunnen Mattstrasse 13  47.036915  8.314452  FOUNTAIN_TYPE_DRINKING   \n",
       "111             Sälihaldebrunnen  47.036915  8.314452       type_spielbrunnen   \n",
       "31             Baigneuse-Brunnen  47.036915  8.314452  FOUNTAIN_TYPE_DRINKING   \n",
       "162      Gräberhallenbrunnen Ost  47.036915  8.314452        type_zierbrunnen   \n",
       "\n",
       "                Quality nearest_qid  nearest_distance  2nd_nearest_distance  \n",
       "45   WATER_QUALITY_GOOD   Q29785731       1551.844862           1858.043733  \n",
       "34    WATER_QUALITY_BAD   Q29785731       1551.844862           1858.043733  \n",
       "169  WATER_QUALITY_GOOD   Q29785731       1551.844862           1858.043733  \n",
       "120  WATER_QUALITY_GOOD   Q29785731       1551.844862           1858.043733  \n",
       "193   WATER_QUALITY_BAD   Q29785731       1551.844862           1858.043733  \n",
       "..                  ...         ...               ...                   ...  \n",
       "122  WATER_QUALITY_GOOD   Q29785731       1551.844862           1858.043733  \n",
       "230  WATER_QUALITY_GOOD   Q29785731       1551.844862           1858.043733  \n",
       "111  WATER_QUALITY_GOOD   Q29785731       1551.844862           1858.043733  \n",
       "31   WATER_QUALITY_GOOD   Q29785731       1551.844862           1858.043733  \n",
       "162  WATER_QUALITY_GOOD   Q29785731       1551.844862           1858.043733  \n",
       "\n",
       "[100 rows x 8 columns]"
      ]
     },
     "execution_count": 227,
     "metadata": {},
     "output_type": "execute_result"
    }
   ],
   "source": [
    "# indexes of nearest fountains\n",
    "nearest_idx = np.argmin(distances, axis=1).tolist()\n",
    "\n",
    "# QID of nearest fountains\n",
    "df['nearest_qid'] = query_result.iloc[nearest_idx]['place'].apply(lambda id:id[3:]).tolist()\n",
    "\n",
    "# distance to nearest fountain\n",
    "df['nearest_distance'] = np.min(distances, axis=1).tolist()\n",
    "\n",
    "\n",
    "# then remove nearest\n",
    "i_line=0\n",
    "for i_col in nearest_idx:\n",
    "    distances[i_line, i_col] = 100000\n",
    "    i_line += 1\n",
    "# find distance to second nearest\n",
    "df['2nd_nearest_distance'] = np.min(distances, axis=1).tolist()\n",
    "\n",
    "df.head(100)"
   ]
  },
  {
   "cell_type": "markdown",
   "metadata": {},
   "source": [
    "### Find out what information already exists for the nearest fountains"
   ]
  },
  {
   "cell_type": "code",
   "execution_count": 228,
   "metadata": {},
   "outputs": [],
   "source": [
    "# does nearest have label in german?\n",
    "df['nearest_has_label_de'] = (query_result.iloc[nearest_idx]['place'].apply(lambda p:p[3:]) != query_result.iloc[nearest_idx]['placeLabel']).tolist()\n",
    "\n",
    "# does nearest have date?\n",
    "df['nearest_has_date'] = query_result.iloc[nearest_idx]['date'].apply(lambda d:d is not None).tolist()\n",
    "\n",
    "# does nearest have operator?\n",
    "df['nearest_has_operator'] = query_result.iloc[nearest_idx]['operator'].apply(lambda id:id is not None).tolist()\n",
    "\n",
    "# does nearest have catalog code?\n",
    "df['nearest_has_code'] = query_result.iloc[nearest_idx]['catalog_code'].apply(lambda id:id is not None).tolist()\n",
    "\n",
    "# does nearest have water type?\n",
    "df['nearest_has_water_type'] = query_result.iloc[nearest_idx]['water_supply_type'].apply(lambda id:id is not None).tolist()"
   ]
  },
  {
   "cell_type": "markdown",
   "metadata": {},
   "source": [
    "### Decide on whether nearest fountain should be considered a match"
   ]
  },
  {
   "cell_type": "code",
   "execution_count": 229,
   "metadata": {},
   "outputs": [],
   "source": [
    "# The nearest fountain is a match if: \n",
    "# - no further than x m away\n",
    "# - 2nd nearest fountain at nearest least ratio_min further away than the nearest fountain\n",
    "def validate_proposal(qid, d1, d2, dmax=10, ratio_min=0.5):\n",
    "    \n",
    "    if d1 == 0 or (d1<=dmax and d2/d1-1 >= ratio_min):\n",
    "        return 'match'\n",
    "    elif d1<=dmax and d2/d1-1 < ratio_min:\n",
    "        return 'unclear'\n",
    "    else:\n",
    "        return 'no match'\n",
    "    \n",
    "for index, row in df.iterrows():\n",
    "    df.loc[index, 'match_found'] = validate_proposal(\n",
    "        row['nearest_qid'], \n",
    "        row['nearest_distance'], \n",
    "        row['2nd_nearest_distance'],\n",
    "        dmax=15\n",
    "    )\n",
    "dffinal = df.drop(columns=['nearest_distance', '2nd_nearest_distance'])"
   ]
  },
  {
   "cell_type": "code",
   "execution_count": null,
   "metadata": {},
   "outputs": [],
   "source": [
    "### Optional: Write matches to a text file"
   ]
  },
  {
   "cell_type": "markdown",
   "metadata": {},
   "source": [
    "## Create Quickstatement commands from data"
   ]
  },
  {
   "cell_type": "markdown",
   "metadata": {},
   "source": [
    "### Helper functions to format content according to Quickstatements v1 syntax"
   ]
  },
  {
   "cell_type": "code",
   "execution_count": 231,
   "metadata": {},
   "outputs": [],
   "source": [
    "def process_coordinates(x, y):\n",
    "    # format geographic coordinates\n",
    "    return '@{1:1.8f}/{0:1.8f}'.format(x,y)\n",
    "\n",
    "\n",
    "def process_year(date):\n",
    "    # format date\n",
    "    if np.isnan(date):\n",
    "        return ''\n",
    "    else:\n",
    "        return '+{0:4d}-00-00T00:00:00Z/9'.format(int(date))\n",
    "\n",
    "    \n",
    "fountain_type_map = {\n",
    "    'öffentlicher Brunnen': 'Q53628296',\n",
    "    'Notwasserbrunnen': 'Q53628522',\n",
    "    'privater Brunnen': 'Q53629707',\n",
    "    'Brunnen in städtischer Liegenschaft': 'Q53628618',\n",
    "    'Brunnen des Verschönerungsvereins': 'Q53628761',\n",
    "    'Brunnen mit eigener Versorgung': 'Q53630002'\n",
    "}\n",
    "\n",
    "water_type_map = {\n",
    "    'Verteilnetz': 'Q53633635',\n",
    "    'Quellwasser': 'Q1881858',\n",
    "    'eigene Versorgung': 'Q53634173',\n",
    "    'Grundwasser': 'Q161598'\n",
    "}\n",
    "\n",
    "def process_fountain_type(type):\n",
    "    # translate fountain types to wikidata values\n",
    "    return fountain_type_map[type]\n",
    "\n",
    "\n",
    "def process_water_type(type):\n",
    "    # translate water types to wikidata values\n",
    "    return water_type_map[type]\n",
    "\n",
    "\n",
    "def process_label_de(text):\n",
    "    # process German language labels\n",
    "    if text is None:\n",
    "        return ''\n",
    "    elif 'brunnen' in text.lower():\n",
    "        return '\"{}\"'.format(text)\n",
    "    else:\n",
    "        return '\"Brunnen ({})\"'.format(text)\n",
    "    \n",
    "\n",
    "def createline(lines, item, prop, value, extra, qualifiers=[]):\n",
    "    # general function to create Quickstatement v1 commands\n",
    "    if value != '' and value != '\"\"':\n",
    "        statement = '{}\\t{}\\t{}'.format(item, prop, value)\n",
    "        if len(qualifiers):\n",
    "            # append qualifiers if applicable\n",
    "            for q in qualifiers:\n",
    "                statement += '\\t{}\\t{}'.format(q['prop'], q['value'])\n",
    "        statement += extra\n",
    "        statement += '\\n'\n",
    "        lines.append(statement)\n",
    "    return lines"
   ]
  },
  {
   "cell_type": "markdown",
   "metadata": {},
   "source": [
    "### Create statements, taking care not to overwrite existing data"
   ]
  },
  {
   "cell_type": "code",
   "execution_count": 233,
   "metadata": {},
   "outputs": [],
   "source": [
    "# initialize command storage list\n",
    "lines = []\n",
    "statedId = \"\\tS248\\tQ76822625\"\n",
    "for index, row in dffinal.iterrows():\n",
    "    \n",
    "    # either create new or edit existing entity\n",
    "    if row['match_found'] == 'no match':\n",
    "        # create a new fountain\n",
    "        lines.append('CREATE\\n')\n",
    "        item = 'LAST'\n",
    "    elif row['match_found'] == 'unclear':\n",
    "        print('unclear match')\n",
    "        print(row)\n",
    "        continue\n",
    "    elif row['match_found'] == 'match':\n",
    "        # update existing fountain\n",
    "        item = row['nearest_qid']\n",
    "        \n",
    "        \n",
    "    # Add this basic information only if creating a new entity\n",
    "    if item == 'LAST':\n",
    "        # instance of drinking fountain\n",
    "        lines = createline(lines, item, 'P31', 'Q1630622', statedId)\n",
    "\n",
    "        # instance of specific water fountain type\n",
    "        #lines = createline(lines, item, 'P31', process_fountain_type(row['fountain_type']), statedId)\n",
    "\n",
    "        # coordinates\n",
    "        lines = createline(lines, item, 'P625', process_coordinates(row['X'], row['Y']), statedId)\n",
    "    else:\n",
    "        #lines = createline(lines, item, 'P31', process_fountain_type(row['fountain_type']), statedId)\n",
    "        #short URL as per https://github.com/water-fountains/proximap/issues/244\n",
    "        lines = createline(lines, item, 'P973', '\"https://h2o.do/'+item+'\"','')\n",
    "        \n",
    "        \n",
    "    # For other properties, add information if the entity is new or if property does not yet exist\n",
    "    \n",
    "    # label in german\n",
    "    if item == 'LAST' or not row['nearest_has_label_de']:\n",
    "        lines = createline(lines, item, 'Lde', process_label_de(row['label_de']),statedId)\n",
    "    \n",
    "    # creation date\n",
    "#     if item == 'LAST' or not row['nearest_has_date']:\n",
    "#         lines = createline(lines, item, 'P571', process_year(row['date']),statedId)\n",
    "\n",
    "    # operated by EWL    \n",
    "#     if item == 'LAST' or not row['nearest_has_operator']:\n",
    "#         lines = createline(lines, item, 'P137', 'Q27229237',statedId)\n",
    "    \n",
    "    \n",
    "    # catalog number can always be added (it is hard to check for)\n",
    "    #lines = createline(lines, item, 'P528', '\"{}\"'.format(row['operator_id']),statedId, [{\n",
    "    #    'prop': 'P972',\n",
    "    #    'value': 'Q53629101'\n",
    "    #}])"
   ]
  },
  {
   "cell_type": "markdown",
   "metadata": {},
   "source": [
    "## Write commands to file"
   ]
  },
  {
   "cell_type": "code",
   "execution_count": 234,
   "metadata": {},
   "outputs": [
    {
     "name": "stdout",
     "output_type": "stream",
     "text": [
      "wrote 'quickstatement_commands_lucenrne_water_fountain_191130_131757.txt' with 596 lines\n"
     ]
    }
   ],
   "source": [
    "quickStatFileName = \"quickstatement_commands_lucenrne_water_fountain_\"+dt.now().strftime(dtFmt)+\".txt\"\n",
    "with io.open(quickStatFileName, \"w\", encoding='utf8') as f:\n",
    "    f.writelines(lines)\n",
    "print(\"wrote '\"+quickStatFileName+\"' with \"+str(len(lines))+\" lines\")"
   ]
  },
  {
   "cell_type": "markdown",
   "metadata": {},
   "source": [
    "## Import into Wikidata\n",
    "* Go to https://tools.wmflabs.org/wikidata-todo/quick_statements.php.\n",
    "* Authenticate yourself with your Wikidata account.\n",
    "* Copy and paste the contents of quickstatement_commands*.txt into the blank field, and run the commands\n"
   ]
  }
 ],
 "metadata": {
  "kernelspec": {
   "display_name": "Python 3",
   "language": "python",
   "name": "python3"
  },
  "language_info": {
   "codemirror_mode": {
    "name": "ipython",
    "version": 3
   },
   "file_extension": ".py",
   "mimetype": "text/x-python",
   "name": "python",
   "nbconvert_exporter": "python",
   "pygments_lexer": "ipython3",
   "version": "3.6.5"
  }
 },
 "nbformat": 4,
 "nbformat_minor": 2
}
